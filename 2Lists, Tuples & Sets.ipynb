{
 "cells": [
  {
   "cell_type": "code",
   "execution_count": 7,
   "id": "378a50a0-865f-49f8-87f0-82ad7297297a",
   "metadata": {},
   "outputs": [],
   "source": [
    "listname = [1,345,45,\"Anu\", True, 5+7j,345.26] \n",
    "#List is a collection which is ordered and changeable. Allows duplicate members"
   ]
  },
  {
   "cell_type": "code",
   "execution_count": 8,
   "id": "88123042-43a0-4aa9-85de-47914b322c09",
   "metadata": {},
   "outputs": [
    {
     "data": {
      "text/plain": [
       "[1, 345, 45, 'Anu', True, (5+7j), 345.26]"
      ]
     },
     "execution_count": 8,
     "metadata": {},
     "output_type": "execute_result"
    }
   ],
   "source": [
    "listname"
   ]
  },
  {
   "cell_type": "code",
   "execution_count": 9,
   "id": "4d4895b1-495b-4866-b287-4a76aee06be2",
   "metadata": {},
   "outputs": [
    {
     "data": {
      "text/plain": [
       "list"
      ]
     },
     "execution_count": 9,
     "metadata": {},
     "output_type": "execute_result"
    }
   ],
   "source": [
    "type(listname)"
   ]
  },
  {
   "cell_type": "code",
   "execution_count": 10,
   "id": "c64cf045-cc27-47b7-88bc-020b116ad94b",
   "metadata": {},
   "outputs": [
    {
     "data": {
      "text/plain": [
       "[1, 345, 45, 'Anu', True, (5+7j)]"
      ]
     },
     "execution_count": 10,
     "metadata": {},
     "output_type": "execute_result"
    }
   ],
   "source": [
    "listname[0:6]"
   ]
  },
  {
   "cell_type": "code",
   "execution_count": 11,
   "id": "3d61d003-a749-470a-b35f-09ebc58e636d",
   "metadata": {},
   "outputs": [
    {
     "data": {
      "text/plain": [
       "1"
      ]
     },
     "execution_count": 11,
     "metadata": {},
     "output_type": "execute_result"
    }
   ],
   "source": [
    "listname[0]"
   ]
  },
  {
   "cell_type": "code",
   "execution_count": 12,
   "id": "389b194b-e449-487b-8d4b-521daec31ebd",
   "metadata": {},
   "outputs": [
    {
     "data": {
      "text/plain": [
       "[(5+7j)]"
      ]
     },
     "execution_count": 12,
     "metadata": {},
     "output_type": "execute_result"
    }
   ],
   "source": [
    "listname[5:6]"
   ]
  },
  {
   "cell_type": "code",
   "execution_count": 13,
   "id": "631b246f-6084-41cf-9da1-a9686ad0c07e",
   "metadata": {},
   "outputs": [
    {
     "data": {
      "text/plain": [
       "['Anu']"
      ]
     },
     "execution_count": 13,
     "metadata": {},
     "output_type": "execute_result"
    }
   ],
   "source": [
    "listname[3:5:2]"
   ]
  },
  {
   "cell_type": "code",
   "execution_count": 14,
   "id": "1e979eee-6c0a-4bb1-add8-6fd4f380e80a",
   "metadata": {},
   "outputs": [
    {
     "data": {
      "text/plain": [
       "345.26"
      ]
     },
     "execution_count": 14,
     "metadata": {},
     "output_type": "execute_result"
    }
   ],
   "source": [
    "listname[-1]"
   ]
  },
  {
   "cell_type": "code",
   "execution_count": 15,
   "id": "d9545936-f234-4f93-918b-f85e7b862967",
   "metadata": {},
   "outputs": [
    {
     "data": {
      "text/plain": [
       "[345.26, (5+7j), True, 'Anu', 45, 345, 1]"
      ]
     },
     "execution_count": 15,
     "metadata": {},
     "output_type": "execute_result"
    }
   ],
   "source": [
    "listname[::-1]"
   ]
  },
  {
   "cell_type": "code",
   "execution_count": 16,
   "id": "f2a2b525-6f57-47d2-8c9a-7993f7389467",
   "metadata": {},
   "outputs": [
    {
     "data": {
      "text/plain": [
       "[1, 45, True, 345.26]"
      ]
     },
     "execution_count": 16,
     "metadata": {},
     "output_type": "execute_result"
    }
   ],
   "source": [
    "listname[::2]"
   ]
  },
  {
   "cell_type": "code",
   "execution_count": 17,
   "id": "d50cd13e-5bcc-4382-ac77-a06a6860f899",
   "metadata": {},
   "outputs": [
    {
     "data": {
      "text/plain": [
       "[345.26, 'Anu', 1]"
      ]
     },
     "execution_count": 17,
     "metadata": {},
     "output_type": "execute_result"
    }
   ],
   "source": [
    "listname[-1:-9:-3]"
   ]
  },
  {
   "cell_type": "code",
   "execution_count": 18,
   "id": "212bfdc1-1fe0-4bb5-821c-857babee3822",
   "metadata": {},
   "outputs": [],
   "source": [
    "string=\"Anuja\""
   ]
  },
  {
   "cell_type": "code",
   "execution_count": 22,
   "id": "6130becf-1711-4ec3-878c-8dbefedf1e57",
   "metadata": {},
   "outputs": [
    {
     "ename": "TypeError",
     "evalue": "can only concatenate list (not \"str\") to list",
     "output_type": "error",
     "traceback": [
      "\u001b[0;31m---------------------------------------------------------------------------\u001b[0m",
      "\u001b[0;31mTypeError\u001b[0m                                 Traceback (most recent call last)",
      "Cell \u001b[0;32mIn[22], line 1\u001b[0m\n\u001b[0;32m----> 1\u001b[0m \u001b[43mlistname\u001b[49m\u001b[38;5;241;43m+\u001b[39;49m\u001b[43mstring\u001b[49m\n",
      "\u001b[0;31mTypeError\u001b[0m: can only concatenate list (not \"str\") to list"
     ]
    }
   ],
   "source": [
    "listname+string #Different data types so addition is not possible"
   ]
  },
  {
   "cell_type": "code",
   "execution_count": 19,
   "id": "0f226d20-3184-4b3e-8cb6-4e3449e49811",
   "metadata": {},
   "outputs": [],
   "source": [
    "list1 =['Anuja','Shirke25', 456.6 ]"
   ]
  },
  {
   "cell_type": "code",
   "execution_count": 20,
   "id": "d0c44e4f-5876-48c9-8d2d-de6962cb75a8",
   "metadata": {},
   "outputs": [
    {
     "data": {
      "text/plain": [
       "[1, 345, 45, 'Anu', True, (5+7j), 345.26, 'Anuja', 'Shirke25', 456.6]"
      ]
     },
     "execution_count": 20,
     "metadata": {},
     "output_type": "execute_result"
    }
   ],
   "source": [
    "listname+list1"
   ]
  },
  {
   "cell_type": "code",
   "execution_count": 21,
   "id": "b6cdcc50-ca09-4dcc-adf6-4a846e0443cb",
   "metadata": {},
   "outputs": [
    {
     "data": {
      "text/plain": [
       "'Shirke25'"
      ]
     },
     "execution_count": 21,
     "metadata": {},
     "output_type": "execute_result"
    }
   ],
   "source": [
    "list1[1]"
   ]
  },
  {
   "cell_type": "code",
   "execution_count": 22,
   "id": "2f2f1789-c0a9-41bf-9568-d703df090e39",
   "metadata": {},
   "outputs": [
    {
     "data": {
      "text/plain": [
       "'Shi'"
      ]
     },
     "execution_count": 22,
     "metadata": {},
     "output_type": "execute_result"
    }
   ],
   "source": [
    "list1[1][0:3]"
   ]
  },
  {
   "cell_type": "code",
   "execution_count": 24,
   "id": "bf09e1ce-4408-4407-bdf6-09e06cbabbe1",
   "metadata": {},
   "outputs": [],
   "source": [
    "list3=list1 * 2"
   ]
  },
  {
   "cell_type": "code",
   "execution_count": 25,
   "id": "25eaef0c-80f9-4a09-8fa2-22130ac79439",
   "metadata": {},
   "outputs": [
    {
     "data": {
      "text/plain": [
       "3"
      ]
     },
     "execution_count": 25,
     "metadata": {},
     "output_type": "execute_result"
    }
   ],
   "source": [
    "len(list1)"
   ]
  },
  {
   "cell_type": "code",
   "execution_count": 26,
   "id": "cd7e8b12-7ad4-47d7-8b58-dd7a3242b5c9",
   "metadata": {},
   "outputs": [
    {
     "data": {
      "text/plain": [
       "6"
      ]
     },
     "execution_count": 26,
     "metadata": {},
     "output_type": "execute_result"
    }
   ],
   "source": [
    "len(list3)"
   ]
  },
  {
   "cell_type": "code",
   "execution_count": 27,
   "id": "95e53a8e-debf-4762-bbd0-d0714969023e",
   "metadata": {},
   "outputs": [],
   "source": [
    "list3.append(\"DEEPAK V SHIRKE\")"
   ]
  },
  {
   "cell_type": "code",
   "execution_count": 28,
   "id": "af19a11b-af82-4203-8136-6d12e27e321b",
   "metadata": {},
   "outputs": [
    {
     "data": {
      "text/plain": [
       "['Anuja', 'Shirke25', 456.6, 'Anuja', 'Shirke25', 456.6, 'DEEPAK V SHIRKE']"
      ]
     },
     "execution_count": 28,
     "metadata": {},
     "output_type": "execute_result"
    }
   ],
   "source": [
    "list3"
   ]
  },
  {
   "cell_type": "code",
   "execution_count": 29,
   "id": "9c613865-fb08-4b7a-8c7b-ee2549ae89a6",
   "metadata": {},
   "outputs": [],
   "source": [
    "list3.clear()"
   ]
  },
  {
   "cell_type": "code",
   "execution_count": 60,
   "id": "85fab9b9-dced-406f-95ce-a1d31ae2ea78",
   "metadata": {},
   "outputs": [],
   "source": [
    "list3=['Anuja', 'Shirke25', 456.6, 'Anuja', 'Shirke25', 456.6, 'DEEPAK V SHIRKE']"
   ]
  },
  {
   "cell_type": "code",
   "execution_count": 61,
   "id": "b34825af-f52f-4715-ab56-7d24f4b5126d",
   "metadata": {},
   "outputs": [
    {
     "data": {
      "text/plain": [
       "['Anuja', 'Shirke25', 456.6, 'Anuja', 'Shirke25', 456.6, 'DEEPAK V SHIRKE']"
      ]
     },
     "execution_count": 61,
     "metadata": {},
     "output_type": "execute_result"
    }
   ],
   "source": [
    "list3"
   ]
  },
  {
   "cell_type": "code",
   "execution_count": 62,
   "id": "7ce070e9-542e-4334-b194-a1c5ef9b772f",
   "metadata": {},
   "outputs": [],
   "source": [
    "listname.append(list3)"
   ]
  },
  {
   "cell_type": "code",
   "execution_count": 63,
   "id": "66e32c64-2c52-4982-8440-df2be0a20da4",
   "metadata": {},
   "outputs": [
    {
     "data": {
      "text/plain": [
       "[1,\n",
       " 345,\n",
       " 45,\n",
       " 'Anu',\n",
       " True,\n",
       " (5+7j),\n",
       " 345.26,\n",
       " ['Anuja', 'Shirke25', 456.6, 'Anuja', 'Shirke25', 456.6, 'DEEPAK V SHIRKE']]"
      ]
     },
     "execution_count": 63,
     "metadata": {},
     "output_type": "execute_result"
    }
   ],
   "source": [
    "listname"
   ]
  },
  {
   "cell_type": "code",
   "execution_count": 64,
   "id": "33ef6565-d49c-456e-ba47-ec542456ca43",
   "metadata": {},
   "outputs": [],
   "source": [
    "listname.append(list1) #addds data in list"
   ]
  },
  {
   "cell_type": "code",
   "execution_count": 65,
   "id": "37d59478-5eaf-4d52-a232-ad4d561b0a69",
   "metadata": {},
   "outputs": [
    {
     "data": {
      "text/plain": [
       "[1,\n",
       " 345,\n",
       " 45,\n",
       " 'Anu',\n",
       " True,\n",
       " (5+7j),\n",
       " 345.26,\n",
       " ['Anuja', 'Shirke25', 456.6, 'Anuja', 'Shirke25', 456.6, 'DEEPAK V SHIRKE'],\n",
       " ['Anuja', 'Shirke25', 456.6]]"
      ]
     },
     "execution_count": 65,
     "metadata": {},
     "output_type": "execute_result"
    }
   ],
   "source": [
    "listname"
   ]
  },
  {
   "cell_type": "code",
   "execution_count": 66,
   "id": "65216994-1dcf-445b-b68b-892405425606",
   "metadata": {},
   "outputs": [
    {
     "data": {
      "text/plain": [
       "True"
      ]
     },
     "execution_count": 66,
     "metadata": {},
     "output_type": "execute_result"
    }
   ],
   "source": [
    "listname[-5]"
   ]
  },
  {
   "cell_type": "code",
   "execution_count": 67,
   "id": "4715a699-efdf-432f-a3d8-95e19c9d39b4",
   "metadata": {},
   "outputs": [
    {
     "data": {
      "text/plain": [
       "['Anuja', 'Shirke25', 456.6]"
      ]
     },
     "execution_count": 67,
     "metadata": {},
     "output_type": "execute_result"
    }
   ],
   "source": [
    "listname[-1]"
   ]
  },
  {
   "cell_type": "code",
   "execution_count": 68,
   "id": "41cd699d-5fde-4427-9f2d-c887f3e11e43",
   "metadata": {},
   "outputs": [
    {
     "data": {
      "text/plain": [
       "[['Anuja', 'Shirke25', 456.6],\n",
       " ['Anuja', 'Shirke25', 456.6, 'Anuja', 'Shirke25', 456.6, 'DEEPAK V SHIRKE'],\n",
       " 345.26,\n",
       " (5+7j),\n",
       " True,\n",
       " 'Anu',\n",
       " 45]"
      ]
     },
     "execution_count": 68,
     "metadata": {},
     "output_type": "execute_result"
    }
   ],
   "source": [
    "listname[-1:-8:-1]"
   ]
  },
  {
   "cell_type": "code",
   "execution_count": 70,
   "id": "3e097417-f335-43b6-9ff5-57fe473ea38c",
   "metadata": {},
   "outputs": [],
   "source": [
    "listname=[345.26,(5+7j),True,'Anu',45]"
   ]
  },
  {
   "cell_type": "code",
   "execution_count": 71,
   "id": "e78792b2-8dc7-469c-a73b-659fb617017f",
   "metadata": {},
   "outputs": [],
   "source": [
    "listname.extend(\"SHIRKE\") #unwraps data= breaks data and append it"
   ]
  },
  {
   "cell_type": "code",
   "execution_count": 72,
   "id": "e36f7871-5ec5-4abf-ae60-326290a6533d",
   "metadata": {},
   "outputs": [
    {
     "data": {
      "text/plain": [
       "[345.26, (5+7j), True, 'Anu', 45, 'S', 'H', 'I', 'R', 'K', 'E']"
      ]
     },
     "execution_count": 72,
     "metadata": {},
     "output_type": "execute_result"
    }
   ],
   "source": [
    "listname"
   ]
  },
  {
   "cell_type": "code",
   "execution_count": 73,
   "id": "9c704967-dc3c-4074-8d52-16197066357f",
   "metadata": {},
   "outputs": [
    {
     "ename": "TypeError",
     "evalue": "'int' object is not iterable",
     "output_type": "error",
     "traceback": [
      "\u001b[0;31m---------------------------------------------------------------------------\u001b[0m",
      "\u001b[0;31mTypeError\u001b[0m                                 Traceback (most recent call last)",
      "Cell \u001b[0;32mIn[73], line 1\u001b[0m\n\u001b[0;32m----> 1\u001b[0m \u001b[43mlistname\u001b[49m\u001b[38;5;241;43m.\u001b[39;49m\u001b[43mextend\u001b[49m\u001b[43m(\u001b[49m\u001b[38;5;241;43m4\u001b[39;49m\u001b[43m)\u001b[49m\n",
      "\u001b[0;31mTypeError\u001b[0m: 'int' object is not iterable"
     ]
    }
   ],
   "source": [
    "listname.extend(4)"
   ]
  },
  {
   "cell_type": "code",
   "execution_count": 74,
   "id": "b765151b-71a5-4864-99b0-8cf492892000",
   "metadata": {},
   "outputs": [],
   "source": [
    "listname.extend([4,5,6]) #breaks and inserts data in last position"
   ]
  },
  {
   "cell_type": "code",
   "execution_count": 75,
   "id": "2cae3247-aa2a-45b7-b4f1-ba9f459debf8",
   "metadata": {},
   "outputs": [
    {
     "data": {
      "text/plain": [
       "[345.26, (5+7j), True, 'Anu', 45, 'S', 'H', 'I', 'R', 'K', 'E', 4, 5, 6]"
      ]
     },
     "execution_count": 75,
     "metadata": {},
     "output_type": "execute_result"
    }
   ],
   "source": [
    "listname"
   ]
  },
  {
   "cell_type": "code",
   "execution_count": 24,
   "id": "210f54ee-0493-41fc-96d2-9bf362bee230",
   "metadata": {},
   "outputs": [],
   "source": [
    "l=[3,4,5]"
   ]
  },
  {
   "cell_type": "code",
   "execution_count": 25,
   "id": "122fbae8-2aad-471c-8292-20a30dbf253b",
   "metadata": {},
   "outputs": [
    {
     "data": {
      "text/plain": [
       "[3, 4, 5]"
      ]
     },
     "execution_count": 25,
     "metadata": {},
     "output_type": "execute_result"
    }
   ],
   "source": [
    "l"
   ]
  },
  {
   "cell_type": "code",
   "execution_count": 26,
   "id": "135cc8f4-e1e0-4dd5-ab54-cfd88d6869ae",
   "metadata": {},
   "outputs": [],
   "source": [
    "l.append([4,5,6]) #inserts data in last position"
   ]
  },
  {
   "cell_type": "code",
   "execution_count": 27,
   "id": "d5e9a095-c937-4b43-a778-24fe1e2c08b8",
   "metadata": {},
   "outputs": [
    {
     "data": {
      "text/plain": [
       "[3, 4, 5, [4, 5, 6]]"
      ]
     },
     "execution_count": 27,
     "metadata": {},
     "output_type": "execute_result"
    }
   ],
   "source": [
    "l"
   ]
  },
  {
   "cell_type": "code",
   "execution_count": 28,
   "id": "4f19f4ee-afd1-453d-96b8-859fc0f5ed6e",
   "metadata": {},
   "outputs": [],
   "source": [
    "l.insert(1,\"Anuja\") #cann insert data atany location that we want"
   ]
  },
  {
   "cell_type": "code",
   "execution_count": 29,
   "id": "93c5c2f2-fe33-4dc8-974b-64699cd8c030",
   "metadata": {},
   "outputs": [
    {
     "data": {
      "text/plain": [
       "[3, 'Anuja', 4, 5, [4, 5, 6]]"
      ]
     },
     "execution_count": 29,
     "metadata": {},
     "output_type": "execute_result"
    }
   ],
   "source": [
    "l"
   ]
  },
  {
   "cell_type": "code",
   "execution_count": 30,
   "id": "5486e9a7-e16c-41c6-bd5f-dd434cda6003",
   "metadata": {},
   "outputs": [],
   "source": [
    "l.insert(2,[1,2,3,4,5,6])"
   ]
  },
  {
   "cell_type": "code",
   "execution_count": 31,
   "id": "b7e6d65c-110a-4c75-b0f3-3f849f4d88c4",
   "metadata": {},
   "outputs": [
    {
     "data": {
      "text/plain": [
       "[3, 'Anuja', [1, 2, 3, 4, 5, 6], 4, 5, [4, 5, 6]]"
      ]
     },
     "execution_count": 31,
     "metadata": {},
     "output_type": "execute_result"
    }
   ],
   "source": [
    "l"
   ]
  },
  {
   "cell_type": "code",
   "execution_count": 32,
   "id": "521a5d41-1b98-4352-9723-667bd7b054b0",
   "metadata": {},
   "outputs": [],
   "source": [
    "l.insert(-1,[789,456,123])"
   ]
  },
  {
   "cell_type": "code",
   "execution_count": 33,
   "id": "2b7bf915-09f3-4203-8a10-56e122954bd0",
   "metadata": {},
   "outputs": [
    {
     "data": {
      "text/plain": [
       "[3, 'Anuja', [1, 2, 3, 4, 5, 6], 4, 5, [789, 456, 123], [4, 5, 6]]"
      ]
     },
     "execution_count": 33,
     "metadata": {},
     "output_type": "execute_result"
    }
   ],
   "source": [
    "l"
   ]
  },
  {
   "cell_type": "code",
   "execution_count": 34,
   "id": "e01812a2-d731-4beb-af3e-b3ca5d166b22",
   "metadata": {},
   "outputs": [
    {
     "data": {
      "text/plain": [
       "'Anuja'"
      ]
     },
     "execution_count": 34,
     "metadata": {},
     "output_type": "execute_result"
    }
   ],
   "source": [
    "l[1]"
   ]
  },
  {
   "cell_type": "code",
   "execution_count": 35,
   "id": "62ee4176-7347-4ba3-aa98-ac9a5be0a190",
   "metadata": {},
   "outputs": [
    {
     "data": {
      "text/plain": [
       "[4, 5, 6]"
      ]
     },
     "execution_count": 35,
     "metadata": {},
     "output_type": "execute_result"
    }
   ],
   "source": [
    "l.pop() #removes data present at last ie at -1 position"
   ]
  },
  {
   "cell_type": "code",
   "execution_count": 36,
   "id": "6ea91ab6-52b8-4d32-9dc0-edc1ff0a64a6",
   "metadata": {},
   "outputs": [
    {
     "data": {
      "text/plain": [
       "[3, 'Anuja', [1, 2, 3, 4, 5, 6], 4, 5, [789, 456, 123]]"
      ]
     },
     "execution_count": 36,
     "metadata": {},
     "output_type": "execute_result"
    }
   ],
   "source": [
    "l"
   ]
  },
  {
   "cell_type": "code",
   "execution_count": 37,
   "id": "d72233f6-71ca-417d-883e-68f0c0044830",
   "metadata": {},
   "outputs": [
    {
     "data": {
      "text/plain": [
       "[1, 2, 3, 4, 5, 6]"
      ]
     },
     "execution_count": 37,
     "metadata": {},
     "output_type": "execute_result"
    }
   ],
   "source": [
    "l.pop(2)"
   ]
  },
  {
   "cell_type": "code",
   "execution_count": 38,
   "id": "e82b42dc-07fd-4f14-9ec4-1a091d1a9cfe",
   "metadata": {},
   "outputs": [
    {
     "data": {
      "text/plain": [
       "[3, 'Anuja', 4, 5, [789, 456, 123]]"
      ]
     },
     "execution_count": 38,
     "metadata": {},
     "output_type": "execute_result"
    }
   ],
   "source": [
    "l"
   ]
  },
  {
   "cell_type": "code",
   "execution_count": 40,
   "id": "0dd7b323-4a8e-4fb0-9152-507ed0a4f00f",
   "metadata": {},
   "outputs": [],
   "source": [
    "l.remove(\"Anuja\")#removes exact value of list"
   ]
  },
  {
   "cell_type": "code",
   "execution_count": 41,
   "id": "cae2a613-f790-44ef-af3c-11dc0062aa81",
   "metadata": {},
   "outputs": [
    {
     "data": {
      "text/plain": [
       "[3, 4, 5, [789, 456, 123]]"
      ]
     },
     "execution_count": 41,
     "metadata": {},
     "output_type": "execute_result"
    }
   ],
   "source": [
    "l"
   ]
  },
  {
   "cell_type": "code",
   "execution_count": 49,
   "id": "2d0ec380-4ef1-418e-bc68-4f26a68b17ca",
   "metadata": {},
   "outputs": [],
   "source": [
    "l.insert(2,[1,2,3])"
   ]
  },
  {
   "cell_type": "code",
   "execution_count": 50,
   "id": "842e13a2-948d-49d9-954b-d7c386561420",
   "metadata": {},
   "outputs": [
    {
     "data": {
      "text/plain": [
       "[3, 4, [1, 2, 3], 5, [789, 456, 123]]"
      ]
     },
     "execution_count": 50,
     "metadata": {},
     "output_type": "execute_result"
    }
   ],
   "source": [
    "l"
   ]
  },
  {
   "cell_type": "code",
   "execution_count": 51,
   "id": "76c6bbbf-877a-4e24-9326-f639cfddb222",
   "metadata": {},
   "outputs": [],
   "source": [
    "l[2].remove(3) #want to remove data in the list of the list"
   ]
  },
  {
   "cell_type": "code",
   "execution_count": 69,
   "id": "1d47e1b0-643c-4db5-ba7c-357a8d417310",
   "metadata": {},
   "outputs": [
    {
     "data": {
      "text/plain": [
       "[3, 4, [1, 2], 5, 5, 5, [5], [789, 123]]"
      ]
     },
     "execution_count": 69,
     "metadata": {},
     "output_type": "execute_result"
    }
   ],
   "source": [
    "l"
   ]
  },
  {
   "cell_type": "code",
   "execution_count": 70,
   "id": "96fcbe9f-7c43-4ab4-b395-d38e668405a5",
   "metadata": {},
   "outputs": [],
   "source": [
    "l.remove(5)"
   ]
  },
  {
   "cell_type": "code",
   "execution_count": 71,
   "id": "94cd9f52-e5b7-4adf-a95a-fed33e899f90",
   "metadata": {},
   "outputs": [
    {
     "data": {
      "text/plain": [
       "[3, 4, [1, 2], 5, 5, [5], [789, 123]]"
      ]
     },
     "execution_count": 71,
     "metadata": {},
     "output_type": "execute_result"
    }
   ],
   "source": [
    "l"
   ]
  },
  {
   "cell_type": "code",
   "execution_count": 1,
   "id": "2f8d81da-930a-4fc2-92a2-b7023925f474",
   "metadata": {},
   "outputs": [],
   "source": [
    "l1=['Anuja','Deepak','Ranvijay','Shreejaya']"
   ]
  },
  {
   "cell_type": "code",
   "execution_count": 2,
   "id": "7621fb31-65ff-4b44-a0a3-873503bedcba",
   "metadata": {},
   "outputs": [
    {
     "data": {
      "text/plain": [
       "['Anuja', 'Deepak', 'Ranvijay', 'Shreejaya']"
      ]
     },
     "execution_count": 2,
     "metadata": {},
     "output_type": "execute_result"
    }
   ],
   "source": [
    "l1"
   ]
  },
  {
   "cell_type": "code",
   "execution_count": 4,
   "id": "00161c01-284b-4327-8a2d-d07ca5a51b87",
   "metadata": {},
   "outputs": [],
   "source": [
    "l1.append(25)"
   ]
  },
  {
   "cell_type": "code",
   "execution_count": 6,
   "id": "085dc874-04fd-4136-ac12-29c1b27ccbf0",
   "metadata": {},
   "outputs": [
    {
     "data": {
      "text/plain": [
       "['Anuja', 'Deepak', 'Ranvijay', 'Shreejaya', 25]"
      ]
     },
     "execution_count": 6,
     "metadata": {},
     "output_type": "execute_result"
    }
   ],
   "source": [
    "l1"
   ]
  },
  {
   "cell_type": "code",
   "execution_count": 8,
   "id": "84eebd47-9ebb-4e65-a666-7a282f9f47d7",
   "metadata": {},
   "outputs": [],
   "source": [
    "l1.reverse() #difference btwn -1 reverse and reverse function \n",
    "#-> -1 reverses temporary\n",
    "#-> reverse function reverses original list so changes are permanent "
   ]
  },
  {
   "cell_type": "code",
   "execution_count": 9,
   "id": "1adf399e-4739-49e9-bd48-5cddc63e8c85",
   "metadata": {},
   "outputs": [
    {
     "data": {
      "text/plain": [
       "[25, 'Shreejaya', 'Ranvijay', 'Deepak', 'Anuja']"
      ]
     },
     "execution_count": 9,
     "metadata": {},
     "output_type": "execute_result"
    }
   ],
   "source": [
    "l1"
   ]
  },
  {
   "cell_type": "code",
   "execution_count": 10,
   "id": "7e37911b-1811-45b8-9c42-c3ed342bcead",
   "metadata": {},
   "outputs": [],
   "source": [
    "l1=l1[::-1]"
   ]
  },
  {
   "cell_type": "code",
   "execution_count": 11,
   "id": "4684a8fa-5361-4f1d-ac58-b3877b814a9c",
   "metadata": {},
   "outputs": [
    {
     "data": {
      "text/plain": [
       "['Anuja', 'Deepak', 'Ranvijay', 'Shreejaya', 25]"
      ]
     },
     "execution_count": 11,
     "metadata": {},
     "output_type": "execute_result"
    }
   ],
   "source": [
    "l1"
   ]
  },
  {
   "cell_type": "code",
   "execution_count": 14,
   "id": "d0901df0-faad-447a-9b00-996be86cd266",
   "metadata": {},
   "outputs": [],
   "source": [
    "l2=[95855465,54984554,2564488,4648645,468489446,748798454,448468645]"
   ]
  },
  {
   "cell_type": "code",
   "execution_count": 15,
   "id": "cbab7576-652a-4e3e-9ec6-a67390a0525f",
   "metadata": {},
   "outputs": [],
   "source": [
    "l2.sort()"
   ]
  },
  {
   "cell_type": "code",
   "execution_count": 16,
   "id": "09e22fa3-2dab-4d32-8352-803f7ac325cc",
   "metadata": {},
   "outputs": [
    {
     "data": {
      "text/plain": [
       "[2564488, 4648645, 54984554, 95855465, 448468645, 468489446, 748798454]"
      ]
     },
     "execution_count": 16,
     "metadata": {},
     "output_type": "execute_result"
    }
   ],
   "source": [
    "l2"
   ]
  },
  {
   "cell_type": "code",
   "execution_count": 17,
   "id": "2e59f26e-729f-46cf-adc8-64393a8ade5e",
   "metadata": {},
   "outputs": [],
   "source": [
    "l3=[5,8,7,6,4,1,2,0,3,9]"
   ]
  },
  {
   "cell_type": "code",
   "execution_count": 18,
   "id": "79121800-d7d8-48a6-b091-5f842bdcfd0c",
   "metadata": {},
   "outputs": [],
   "source": [
    "l4=[\"Zeke\",\"Harry\",\"Harry Potter\",\"Harmoine\",\"Ronald\",\"Parvati\",\"Dumbaldore\"]"
   ]
  },
  {
   "cell_type": "code",
   "execution_count": 19,
   "id": "f7e1612c-7d6f-4eb5-b262-57101fb4ea0f",
   "metadata": {},
   "outputs": [],
   "source": [
    "l4.sort()"
   ]
  },
  {
   "cell_type": "code",
   "execution_count": 20,
   "id": "1fe54ec6-a31b-4de5-a1d9-08e2d73e763e",
   "metadata": {},
   "outputs": [
    {
     "data": {
      "text/plain": [
       "['Dumbaldore',\n",
       " 'Harmoine',\n",
       " 'Harry',\n",
       " 'Harry Potter',\n",
       " 'Parvati',\n",
       " 'Ronald',\n",
       " 'Zeke']"
      ]
     },
     "execution_count": 20,
     "metadata": {},
     "output_type": "execute_result"
    }
   ],
   "source": [
    "l4"
   ]
  },
  {
   "cell_type": "code",
   "execution_count": 22,
   "id": "b206578b-1ca4-4ebe-be8c-78dbbb6b1910",
   "metadata": {},
   "outputs": [],
   "source": [
    "l3.sort()"
   ]
  },
  {
   "cell_type": "code",
   "execution_count": 23,
   "id": "077b3862-eb68-45fd-9fe1-47f5311e1dc2",
   "metadata": {},
   "outputs": [
    {
     "data": {
      "text/plain": [
       "[0, 1, 2, 3, 4, 5, 6, 7, 8, 9]"
      ]
     },
     "execution_count": 23,
     "metadata": {},
     "output_type": "execute_result"
    }
   ],
   "source": [
    "l3"
   ]
  },
  {
   "cell_type": "code",
   "execution_count": 30,
   "id": "9fb7fc76-7212-4a52-b6ff-824d3db2b543",
   "metadata": {},
   "outputs": [],
   "source": [
    "l5=[[2,3,4],[6,8,9],[4,6,58,1]]"
   ]
  },
  {
   "cell_type": "code",
   "execution_count": 31,
   "id": "ef9b2aec-78df-4765-a47f-bbb2d0b782e7",
   "metadata": {},
   "outputs": [],
   "source": [
    "l5.sort()"
   ]
  },
  {
   "cell_type": "code",
   "execution_count": 32,
   "id": "3d89a0de-40c5-4a2a-a96d-900ec6ef7678",
   "metadata": {},
   "outputs": [
    {
     "data": {
      "text/plain": [
       "[[2, 3, 4], [4, 6, 58, 1], [6, 8, 9]]"
      ]
     },
     "execution_count": 32,
     "metadata": {},
     "output_type": "execute_result"
    }
   ],
   "source": [
    "l5"
   ]
  },
  {
   "cell_type": "code",
   "execution_count": 33,
   "id": "7ec3c91d-f011-4dc1-94a1-fdc44a12e144",
   "metadata": {},
   "outputs": [],
   "source": [
    "l5[1].sort()"
   ]
  },
  {
   "cell_type": "code",
   "execution_count": 34,
   "id": "4fbb0fdf-bbf2-4a57-9997-aa64d80b7654",
   "metadata": {},
   "outputs": [
    {
     "data": {
      "text/plain": [
       "[[2, 3, 4], [1, 4, 6, 58], [6, 8, 9]]"
      ]
     },
     "execution_count": 34,
     "metadata": {},
     "output_type": "execute_result"
    }
   ],
   "source": [
    "l5"
   ]
  },
  {
   "cell_type": "code",
   "execution_count": 35,
   "id": "62155927-a078-4a2a-b9ee-7281e463436a",
   "metadata": {},
   "outputs": [],
   "source": [
    "l5.sort(reverse=True)"
   ]
  },
  {
   "cell_type": "code",
   "execution_count": 36,
   "id": "fd7283d6-88e5-4d0e-9edd-f26edb3b6947",
   "metadata": {},
   "outputs": [
    {
     "data": {
      "text/plain": [
       "[[6, 8, 9], [2, 3, 4], [1, 4, 6, 58]]"
      ]
     },
     "execution_count": 36,
     "metadata": {},
     "output_type": "execute_result"
    }
   ],
   "source": [
    "l5"
   ]
  },
  {
   "cell_type": "code",
   "execution_count": 45,
   "id": "dd0429ec-8a1c-4256-ae1c-232782124cf4",
   "metadata": {},
   "outputs": [],
   "source": [
    "l5[0].sort(reverse=True)"
   ]
  },
  {
   "cell_type": "code",
   "execution_count": 46,
   "id": "8b93f3c1-509e-4569-a57e-a4c365e12072",
   "metadata": {},
   "outputs": [
    {
     "data": {
      "text/plain": [
       "[[9, 8, 6], [2, 3, 4], [1, 4, 6, 58]]"
      ]
     },
     "execution_count": 46,
     "metadata": {},
     "output_type": "execute_result"
    }
   ],
   "source": [
    "l5"
   ]
  },
  {
   "cell_type": "code",
   "execution_count": 49,
   "id": "f06f04e3-4ce1-4803-83a1-5a6f0ddba4d5",
   "metadata": {},
   "outputs": [
    {
     "data": {
      "text/plain": [
       "2"
      ]
     },
     "execution_count": 49,
     "metadata": {},
     "output_type": "execute_result"
    }
   ],
   "source": [
    "l4.index(\"Harry\")"
   ]
  },
  {
   "cell_type": "code",
   "execution_count": 50,
   "id": "69b34a97-e3af-4cfa-8b29-32023024cc9f",
   "metadata": {},
   "outputs": [
    {
     "data": {
      "text/plain": [
       "1"
      ]
     },
     "execution_count": 50,
     "metadata": {},
     "output_type": "execute_result"
    }
   ],
   "source": [
    "l4.count(\"Harry\")"
   ]
  },
  {
   "cell_type": "code",
   "execution_count": 51,
   "id": "455457c3-765f-4a9a-942c-b3757067230e",
   "metadata": {},
   "outputs": [],
   "source": [
    "s=\"Anuja\""
   ]
  },
  {
   "cell_type": "code",
   "execution_count": 52,
   "id": "e0d96348-6764-46a0-bd13-a801b5f7cc64",
   "metadata": {},
   "outputs": [],
   "source": [
    "l5=[3,4,5,6]"
   ]
  },
  {
   "cell_type": "code",
   "execution_count": 53,
   "id": "18bd0f79-5a99-4f3e-9857-a08dd7593258",
   "metadata": {},
   "outputs": [
    {
     "ename": "TypeError",
     "evalue": "'str' object does not support item assignment",
     "output_type": "error",
     "traceback": [
      "\u001b[0;31m---------------------------------------------------------------------------\u001b[0m",
      "\u001b[0;31mTypeError\u001b[0m                                 Traceback (most recent call last)",
      "Cell \u001b[0;32mIn[53], line 1\u001b[0m\n\u001b[0;32m----> 1\u001b[0m \u001b[43ms\u001b[49m\u001b[43m[\u001b[49m\u001b[38;5;241;43m0\u001b[39;49m\u001b[43m]\u001b[49m\u001b[38;5;241m=\u001b[39m\u001b[38;5;124m'\u001b[39m\u001b[38;5;124mB\u001b[39m\u001b[38;5;124m'\u001b[39m\n",
      "\u001b[0;31mTypeError\u001b[0m: 'str' object does not support item assignment"
     ]
    }
   ],
   "source": [
    "s[0]='B' #in case of strings we cannot replace any element with other ##Immutability"
   ]
  },
  {
   "cell_type": "code",
   "execution_count": 56,
   "id": "4e9b2bdf-addd-4c26-ba3f-295d7217a892",
   "metadata": {},
   "outputs": [],
   "source": [
    "l5[0]=2 #in case of integers we can replace element with other element #mutability #permanant_change"
   ]
  },
  {
   "cell_type": "code",
   "execution_count": 57,
   "id": "e659b7b9-069a-4a23-a39a-e9d326985fee",
   "metadata": {},
   "outputs": [
    {
     "data": {
      "text/plain": [
       "[2, 4, 5, 6]"
      ]
     },
     "execution_count": 57,
     "metadata": {},
     "output_type": "execute_result"
    }
   ],
   "source": [
    "l5"
   ]
  },
  {
   "cell_type": "code",
   "execution_count": 58,
   "id": "a7622751-27b5-4dc2-89ab-8c1a8b4dd31e",
   "metadata": {},
   "outputs": [
    {
     "data": {
      "text/plain": [
       "'Bnuja'"
      ]
     },
     "execution_count": 58,
     "metadata": {},
     "output_type": "execute_result"
    }
   ],
   "source": [
    "s.replace('A','B') #temporary change"
   ]
  },
  {
   "cell_type": "code",
   "execution_count": 59,
   "id": "9e3c8a46-c829-43f6-9665-c07100cce56a",
   "metadata": {},
   "outputs": [
    {
     "data": {
      "text/plain": [
       "'Anuja'"
      ]
     },
     "execution_count": 59,
     "metadata": {},
     "output_type": "execute_result"
    }
   ],
   "source": [
    "s"
   ]
  },
  {
   "cell_type": "code",
   "execution_count": 67,
   "id": "26c0a60f-cf4b-45c0-9fe8-4a337ae65eb3",
   "metadata": {},
   "outputs": [],
   "source": [
    "#tuples--> data type\n",
    "t=(2,34,0,45.25,False,\"Anu\",[4,5,6],4+5j) #collection of all types of data"
   ]
  },
  {
   "cell_type": "code",
   "execution_count": 68,
   "id": "ef534048-5247-4296-8739-e3b4df36656a",
   "metadata": {},
   "outputs": [
    {
     "data": {
      "text/plain": [
       "(2, 34, 0, 45.25, False, 'Anu', [4, 5, 6], (4+5j))"
      ]
     },
     "execution_count": 68,
     "metadata": {},
     "output_type": "execute_result"
    }
   ],
   "source": [
    "t"
   ]
  },
  {
   "cell_type": "code",
   "execution_count": 70,
   "id": "a9a82939-a37b-4c13-b9b8-157a75f4f691",
   "metadata": {},
   "outputs": [
    {
     "data": {
      "text/plain": [
       "tuple"
      ]
     },
     "execution_count": 70,
     "metadata": {},
     "output_type": "execute_result"
    }
   ],
   "source": [
    "type(t)"
   ]
  },
  {
   "cell_type": "code",
   "execution_count": 69,
   "id": "9ad60e14-79c5-4aa8-b52b-48dd2cd212b3",
   "metadata": {},
   "outputs": [
    {
     "data": {
      "text/plain": [
       "8"
      ]
     },
     "execution_count": 69,
     "metadata": {},
     "output_type": "execute_result"
    }
   ],
   "source": [
    "len(t)"
   ]
  },
  {
   "cell_type": "code",
   "execution_count": 71,
   "id": "1e99c899-d203-4d7c-96c4-c13068795317",
   "metadata": {},
   "outputs": [
    {
     "data": {
      "text/plain": [
       "[4, 5, 6]"
      ]
     },
     "execution_count": 71,
     "metadata": {},
     "output_type": "execute_result"
    }
   ],
   "source": [
    "t[6]"
   ]
  },
  {
   "cell_type": "code",
   "execution_count": 72,
   "id": "534dc2f9-854f-40ae-838d-2dfda41257dc",
   "metadata": {},
   "outputs": [
    {
     "data": {
      "text/plain": [
       "(2, 0, False)"
      ]
     },
     "execution_count": 72,
     "metadata": {},
     "output_type": "execute_result"
    }
   ],
   "source": [
    "t[0:5:2]"
   ]
  },
  {
   "cell_type": "code",
   "execution_count": 75,
   "id": "31cb44b6-bfd9-4d30-aeee-67b173d0f07c",
   "metadata": {},
   "outputs": [
    {
     "data": {
      "text/plain": [
       "['Dumbaldore',\n",
       " 'Harmoine',\n",
       " 'Harry',\n",
       " 'Harry Potter',\n",
       " 'Parvati',\n",
       " 'Ronald',\n",
       " 'Zeke']"
      ]
     },
     "execution_count": 75,
     "metadata": {},
     "output_type": "execute_result"
    }
   ],
   "source": [
    "l4 #items can be replaced in lists if same data type elements exists"
   ]
  },
  {
   "cell_type": "code",
   "execution_count": 76,
   "id": "c20415d6-240d-4186-8de6-1ee0cae1a23e",
   "metadata": {},
   "outputs": [],
   "source": [
    "l4[0]=4546"
   ]
  },
  {
   "cell_type": "code",
   "execution_count": 77,
   "id": "7871e692-10f4-4b8b-bd71-0042243d1b95",
   "metadata": {},
   "outputs": [
    {
     "data": {
      "text/plain": [
       "[4546, 'Harmoine', 'Harry', 'Harry Potter', 'Parvati', 'Ronald', 'Zeke']"
      ]
     },
     "execution_count": 77,
     "metadata": {},
     "output_type": "execute_result"
    }
   ],
   "source": [
    "l4"
   ]
  },
  {
   "cell_type": "code",
   "execution_count": 78,
   "id": "093021cd-7307-43c0-956d-8593b31dddb0",
   "metadata": {},
   "outputs": [],
   "source": [
    "t=(\"a\",\"b\",\"c\",\"d\")\n",
    "#Tuple is a collection which is ordered and unchangeable. Allows duplicate members."
   ]
  },
  {
   "cell_type": "code",
   "execution_count": 79,
   "id": "7508f821-3570-4598-887e-bea97c6f74a4",
   "metadata": {},
   "outputs": [
    {
     "ename": "NameError",
     "evalue": "name 'ANUJA' is not defined",
     "output_type": "error",
     "traceback": [
      "\u001b[0;31m---------------------------------------------------------------------------\u001b[0m",
      "\u001b[0;31mNameError\u001b[0m                                 Traceback (most recent call last)",
      "Cell \u001b[0;32mIn[79], line 1\u001b[0m\n\u001b[0;32m----> 1\u001b[0m t[\u001b[38;5;241m0\u001b[39m]\u001b[38;5;241m=\u001b[39m\u001b[43mANUJA\u001b[49m\n",
      "\u001b[0;31mNameError\u001b[0m: name 'ANUJA' is not defined"
     ]
    }
   ],
   "source": [
    "t[0]=ANUJA #items cannot be replaced in lists if same data type elements exists # unchangeable\n",
    "#tuplels are used if we do not want someone to change our records like passwords,usernames etc."
   ]
  },
  {
   "cell_type": "code",
   "execution_count": 80,
   "id": "ea7c0511-5afc-4029-b95f-214d17b34394",
   "metadata": {},
   "outputs": [
    {
     "data": {
      "text/plain": [
       "('a', 'b', 'c', 'd')"
      ]
     },
     "execution_count": 80,
     "metadata": {},
     "output_type": "execute_result"
    }
   ],
   "source": [
    "t"
   ]
  },
  {
   "cell_type": "code",
   "execution_count": 81,
   "id": "2ab0dd95-7bc3-4b0d-b30b-c1f54e1e2253",
   "metadata": {},
   "outputs": [
    {
     "data": {
      "text/plain": [
       "('d', 'c', 'b', 'a')"
      ]
     },
     "execution_count": 81,
     "metadata": {},
     "output_type": "execute_result"
    }
   ],
   "source": [
    "t[::-1] #temporarychange"
   ]
  },
  {
   "cell_type": "code",
   "execution_count": 82,
   "id": "2aee245a-f99f-43ef-abc5-421d573e9e66",
   "metadata": {},
   "outputs": [
    {
     "data": {
      "text/plain": [
       "('a', 'b', 'c', 'd')"
      ]
     },
     "execution_count": 82,
     "metadata": {},
     "output_type": "execute_result"
    }
   ],
   "source": [
    "t"
   ]
  },
  {
   "cell_type": "code",
   "execution_count": 87,
   "id": "0ad385c9-a01d-4aa8-91c7-03e523f0074e",
   "metadata": {},
   "outputs": [
    {
     "data": {
      "text/plain": [
       "1"
      ]
     },
     "execution_count": 87,
     "metadata": {},
     "output_type": "execute_result"
    }
   ],
   "source": [
    "t.count(\"a\")"
   ]
  },
  {
   "cell_type": "code",
   "execution_count": 89,
   "id": "a3eb3c5a-716a-4d94-8114-c62639b6795f",
   "metadata": {},
   "outputs": [
    {
     "data": {
      "text/plain": [
       "1"
      ]
     },
     "execution_count": 89,
     "metadata": {},
     "output_type": "execute_result"
    }
   ],
   "source": [
    "t.index('b')"
   ]
  },
  {
   "cell_type": "code",
   "execution_count": 90,
   "id": "25957390-d8f3-44e0-a560-009070868fc5",
   "metadata": {},
   "outputs": [
    {
     "data": {
      "text/plain": [
       "'a'"
      ]
     },
     "execution_count": 90,
     "metadata": {},
     "output_type": "execute_result"
    }
   ],
   "source": [
    "t[0]"
   ]
  },
  {
   "cell_type": "code",
   "execution_count": 92,
   "id": "143ed7a0-b82a-47a7-8f3e-a387bc33cee9",
   "metadata": {},
   "outputs": [],
   "source": [
    "s1={} \n",
    "#if elements are not listed inside curly braces then python recognizes it as dictionary datatype"
   ]
  },
  {
   "cell_type": "code",
   "execution_count": 94,
   "id": "0f8a6439-bf14-4535-94c5-5ca6950638c2",
   "metadata": {},
   "outputs": [
    {
     "data": {
      "text/plain": [
       "dict"
      ]
     },
     "execution_count": 94,
     "metadata": {},
     "output_type": "execute_result"
    }
   ],
   "source": [
    "type(s1)"
   ]
  },
  {
   "cell_type": "code",
   "execution_count": 96,
   "id": "60e21240-76c8-47b9-bae6-4bd12aab2c65",
   "metadata": {},
   "outputs": [],
   "source": [
    "s2={2,3,45,6,89,546,48,6584,21122,5488599,15,233,1548,544666}\n",
    "#if elements are listed inside curly braces then python recognizes it as set datatype\n",
    "#Set is a collection which is unordered, unchangeable*, and unindexed. No duplicate members.\n",
    "#Set items are unchangeable, but you can remove and/or add items whenever you like."
   ]
  },
  {
   "cell_type": "code",
   "execution_count": 97,
   "id": "f0d238d5-26db-4a7c-a910-ba98545299e1",
   "metadata": {},
   "outputs": [
    {
     "data": {
      "text/plain": [
       "set"
      ]
     },
     "execution_count": 97,
     "metadata": {},
     "output_type": "execute_result"
    }
   ],
   "source": [
    "type(s2)"
   ]
  },
  {
   "cell_type": "code",
   "execution_count": 98,
   "id": "3a212f10-309d-43ad-a2a1-0f2276b601f8",
   "metadata": {},
   "outputs": [],
   "source": [
    "s3={324,456,456,\"sudh\",45+45j,34.465,(3,4,5)} \n",
    "#set is immutable changes cannot be made inside set\n",
    "#List are changeable so we cannot include list inside sets\n"
   ]
  },
  {
   "cell_type": "code",
   "execution_count": 99,
   "id": "81224181-0841-4164-9d4c-36be6b06a7a4",
   "metadata": {},
   "outputs": [
    {
     "data": {
      "text/plain": [
       "{(3, 4, 5), (45+45j), 324, 34.465, 456, 'sudh'}"
      ]
     },
     "execution_count": 99,
     "metadata": {},
     "output_type": "execute_result"
    }
   ],
   "source": [
    "s3"
   ]
  },
  {
   "cell_type": "code",
   "execution_count": 101,
   "id": "54a00402-d07d-4b03-9b6f-dd1b2b3a94d0",
   "metadata": {},
   "outputs": [],
   "source": [
    "s4={2,3,4,5,6,2,5,1,2,2,2,4,5,6,8,54,7,2,2,1,1,} \n",
    "#repeatative elements-> if we want unique elements we include them in set"
   ]
  },
  {
   "cell_type": "code",
   "execution_count": 102,
   "id": "8f7a4b08-1a83-4500-a1ed-228cbc3e2d38",
   "metadata": {},
   "outputs": [
    {
     "data": {
      "text/plain": [
       "{1, 2, 3, 4, 5, 6, 7, 8, 54}"
      ]
     },
     "execution_count": 102,
     "metadata": {},
     "output_type": "execute_result"
    }
   ],
   "source": [
    "s4 \n",
    "#set removes duplicate data. \n",
    "#Python is case sensative language"
   ]
  },
  {
   "cell_type": "code",
   "execution_count": 103,
   "id": "a2f9059d-11c5-4b5e-b204-3dc7f804abc0",
   "metadata": {},
   "outputs": [],
   "source": [
    "l6=[4,5,53,1,8,5,1,85,15,512,12,15,62,85,1,1,2,2,3,32,52,5,2,2]\n",
    "#suppose list is given and we want to remove duplicate data from the list\n",
    "#we can assign list to set like given below"
   ]
  },
  {
   "cell_type": "code",
   "execution_count": 104,
   "id": "9b8808a5-6300-49f6-a24c-cae4e4c93ba9",
   "metadata": {},
   "outputs": [],
   "source": [
    "l6=set(l6)"
   ]
  },
  {
   "cell_type": "code",
   "execution_count": 105,
   "id": "648e1546-910e-4788-bf17-211050213b7c",
   "metadata": {},
   "outputs": [
    {
     "data": {
      "text/plain": [
       "{1, 2, 3, 4, 5, 8, 12, 15, 32, 52, 53, 62, 85, 512}"
      ]
     },
     "execution_count": 105,
     "metadata": {},
     "output_type": "execute_result"
    }
   ],
   "source": [
    "l6\n",
    "#unique data is shown in set now\n",
    "#It looks like elements are displayed in ordered manner+> arranging records in ascending order => \n",
    "#BUT ITS NOT WHAT IT LOOKS LIKE SET NEVER ARRNAGES DATA IN ORDERED MANNER"
   ]
  },
  {
   "cell_type": "code",
   "execution_count": 106,
   "id": "d863d32c-6688-4576-8932-cd6ecd01755e",
   "metadata": {},
   "outputs": [],
   "source": [
    "l6=list(set(l6))"
   ]
  },
  {
   "cell_type": "code",
   "execution_count": 107,
   "id": "4246a164-6e9f-480f-b0d2-29a4b4ff1c25",
   "metadata": {},
   "outputs": [
    {
     "data": {
      "text/plain": [
       "[512, 1, 2, 3, 4, 5, 32, 8, 12, 15, 52, 53, 85, 62]"
      ]
     },
     "execution_count": 107,
     "metadata": {},
     "output_type": "execute_result"
    }
   ],
   "source": [
    "l6"
   ]
  },
  {
   "cell_type": "code",
   "execution_count": 109,
   "id": "7dd343d6-f477-4b96-a094-8ff08979f14c",
   "metadata": {},
   "outputs": [],
   "source": [
    "s5={234,454,859,751,632,45,\"Anu\",65,789,23235,756}"
   ]
  },
  {
   "cell_type": "code",
   "execution_count": 110,
   "id": "990c7a4c-f7da-415d-9d5e-f43bb01eb0e7",
   "metadata": {},
   "outputs": [
    {
     "data": {
      "text/plain": [
       "{23235, 234, 45, 454, 632, 65, 751, 756, 789, 859, 'Anu'}"
      ]
     },
     "execution_count": 110,
     "metadata": {},
     "output_type": "execute_result"
    }
   ],
   "source": [
    "s5\n",
    "#SET IS NOT IN ORDERED MANNER +>IT IS AN UNORDERED COLLECTION OF UNIQUE ELEMENTS"
   ]
  },
  {
   "cell_type": "code",
   "execution_count": 111,
   "id": "73594b87-6184-48b5-b7e0-705245dbf314",
   "metadata": {},
   "outputs": [
    {
     "ename": "TypeError",
     "evalue": "'set' object is not subscriptable",
     "output_type": "error",
     "traceback": [
      "\u001b[0;31m---------------------------------------------------------------------------\u001b[0m",
      "\u001b[0;31mTypeError\u001b[0m                                 Traceback (most recent call last)",
      "Cell \u001b[0;32mIn[111], line 1\u001b[0m\n\u001b[0;32m----> 1\u001b[0m \u001b[43ms5\u001b[49m\u001b[43m[\u001b[49m\u001b[38;5;241;43m0\u001b[39;49m\u001b[43m]\u001b[49m\n",
      "\u001b[0;31mTypeError\u001b[0m: 'set' object is not subscriptable"
     ]
    }
   ],
   "source": [
    "s5[0] #indexing doesnt work"
   ]
  },
  {
   "cell_type": "code",
   "execution_count": 112,
   "id": "8eea4119-2f51-4609-8bb0-512e4073573e",
   "metadata": {},
   "outputs": [
    {
     "ename": "TypeError",
     "evalue": "'set' object is not subscriptable",
     "output_type": "error",
     "traceback": [
      "\u001b[0;31m---------------------------------------------------------------------------\u001b[0m",
      "\u001b[0;31mTypeError\u001b[0m                                 Traceback (most recent call last)",
      "Cell \u001b[0;32mIn[112], line 1\u001b[0m\n\u001b[0;32m----> 1\u001b[0m \u001b[43ms5\u001b[49m\u001b[43m[\u001b[49m\u001b[43m:\u001b[49m\u001b[43m:\u001b[49m\u001b[38;5;241;43m-\u001b[39;49m\u001b[38;5;241;43m1\u001b[39;49m\u001b[43m]\u001b[49m\n",
      "\u001b[0;31mTypeError\u001b[0m: 'set' object is not subscriptable"
     ]
    }
   ],
   "source": [
    "s5[::-1] #slicing doesnt work"
   ]
  },
  {
   "cell_type": "code",
   "execution_count": 113,
   "id": "ce476375-816b-4f83-8b3c-dc8dace710bb",
   "metadata": {},
   "outputs": [],
   "source": [
    "s5.add(4) #if 4 doesnt exits in set, then it will add to the set elements but if it exists then it is replaced"
   ]
  },
  {
   "cell_type": "code",
   "execution_count": 114,
   "id": "e60066ec-f18e-4a62-b04f-8faa97c7e965",
   "metadata": {},
   "outputs": [
    {
     "data": {
      "text/plain": [
       "{23235, 234, 4, 45, 454, 632, 65, 751, 756, 789, 859, 'Anu'}"
      ]
     },
     "execution_count": 114,
     "metadata": {},
     "output_type": "execute_result"
    }
   ],
   "source": [
    "s5"
   ]
  },
  {
   "cell_type": "code",
   "execution_count": 120,
   "id": "704f9b73-c8f0-4f36-9554-f81367d8065a",
   "metadata": {},
   "outputs": [],
   "source": [
    "s5.remove(4)"
   ]
  },
  {
   "cell_type": "code",
   "execution_count": 122,
   "id": "0a8c2260-d917-4e8e-8557-557dab457614",
   "metadata": {},
   "outputs": [
    {
     "data": {
      "text/plain": [
       "{23235, 234, 45, 454, 632, 65, 751, 756, 789, 859, 'Anu'}"
      ]
     },
     "execution_count": 122,
     "metadata": {},
     "output_type": "execute_result"
    }
   ],
   "source": [
    "s5"
   ]
  },
  {
   "cell_type": "code",
   "execution_count": 123,
   "id": "3d461b15-9bb0-414b-9aa9-266e511e53af",
   "metadata": {},
   "outputs": [],
   "source": [
    "name='pwskills'"
   ]
  },
  {
   "cell_type": "code",
   "execution_count": 124,
   "id": "f1418b1e-2a81-4292-936f-cb0a11e5c276",
   "metadata": {},
   "outputs": [
    {
     "ename": "TypeError",
     "evalue": "'str' object does not support item assignment",
     "output_type": "error",
     "traceback": [
      "\u001b[0;31m---------------------------------------------------------------------------\u001b[0m",
      "\u001b[0;31mTypeError\u001b[0m                                 Traceback (most recent call last)",
      "Cell \u001b[0;32mIn[124], line 1\u001b[0m\n\u001b[0;32m----> 1\u001b[0m \u001b[43mname\u001b[49m\u001b[43m[\u001b[49m\u001b[38;5;241;43m0\u001b[39;49m\u001b[43m]\u001b[49m\u001b[38;5;241m=\u001b[39m\u001b[38;5;124m'\u001b[39m\u001b[38;5;124mp\u001b[39m\u001b[38;5;124m'\u001b[39m\n",
      "\u001b[0;31mTypeError\u001b[0m: 'str' object does not support item assignment"
     ]
    }
   ],
   "source": [
    "name[0]='p'"
   ]
  },
  {
   "cell_type": "code",
   "execution_count": 125,
   "id": "519bd0d4-7252-4cad-b250-6e759c634ff1",
   "metadata": {},
   "outputs": [
    {
     "ename": "SyntaxError",
     "evalue": "invalid character '‘' (U+2018) (3643665153.py, line 1)",
     "output_type": "error",
     "traceback": [
      "\u001b[0;36m  Cell \u001b[0;32mIn[125], line 1\u001b[0;36m\u001b[0m\n\u001b[0;31m    ‘pwskills’.upper().lower().isalnum()\u001b[0m\n\u001b[0m    ^\u001b[0m\n\u001b[0;31mSyntaxError\u001b[0m\u001b[0;31m:\u001b[0m invalid character '‘' (U+2018)\n"
     ]
    }
   ],
   "source": [
    "‘pwskills’.upper().lower().isalnum()"
   ]
  },
  {
   "cell_type": "code",
   "execution_count": 126,
   "id": "2f8e535c-21ba-47c3-84b3-259b8b5af198",
   "metadata": {},
   "outputs": [],
   "source": [
    "_pw_skills=[4,5,4,5]"
   ]
  },
  {
   "cell_type": "code",
   "execution_count": 130,
   "id": "1855b123-8a40-4b05-8c64-29ec4925d178",
   "metadata": {},
   "outputs": [
    {
     "data": {
      "text/plain": [
       "'pwskills1'"
      ]
     },
     "execution_count": 130,
     "metadata": {},
     "output_type": "execute_result"
    }
   ],
   "source": [
    "'pwskills' + str(1)"
   ]
  },
  {
   "cell_type": "code",
   "execution_count": 131,
   "id": "f98fdf34-7059-4d73-b039-9a02ed6327a6",
   "metadata": {},
   "outputs": [
    {
     "data": {
      "text/plain": [
       "(-1+3j)"
      ]
     },
     "execution_count": 131,
     "metadata": {},
     "output_type": "execute_result"
    }
   ],
   "source": [
    "num1= 23\n",
    "\n",
    "num2= 44\n",
    "\n",
    "num2= 2+3j\n",
    "\n",
    "num1= num2.imag\n",
    "\n",
    "num2-num1"
   ]
  },
  {
   "cell_type": "code",
   "execution_count": 133,
   "id": "b77bc287-71b1-45e4-9392-7a393ce05c1e",
   "metadata": {},
   "outputs": [
    {
     "ename": "NameError",
     "evalue": "name 'pwskills' is not defined",
     "output_type": "error",
     "traceback": [
      "\u001b[0;31m---------------------------------------------------------------------------\u001b[0m",
      "\u001b[0;31mNameError\u001b[0m                                 Traceback (most recent call last)",
      "Cell \u001b[0;32mIn[133], line 1\u001b[0m\n\u001b[0;32m----> 1\u001b[0m \u001b[43mpwskills\u001b[49m\u001b[38;5;241m.\u001b[39mupper()\u001b[38;5;241m.\u001b[39mlower()\u001b[38;5;241m.\u001b[39misalnum()\n",
      "\u001b[0;31mNameError\u001b[0m: name 'pwskills' is not defined"
     ]
    }
   ],
   "source": [
    "pwskills.upper().lower().isalnum()"
   ]
  },
  {
   "cell_type": "code",
   "execution_count": null,
   "id": "2a84e180-ae02-468a-b04d-d445fff9d395",
   "metadata": {},
   "outputs": [],
   "source": []
  }
 ],
 "metadata": {
  "kernelspec": {
   "display_name": "Python 3 (ipykernel)",
   "language": "python",
   "name": "python3"
  },
  "language_info": {
   "codemirror_mode": {
    "name": "ipython",
    "version": 3
   },
   "file_extension": ".py",
   "mimetype": "text/x-python",
   "name": "python",
   "nbconvert_exporter": "python",
   "pygments_lexer": "ipython3",
   "version": "3.10.8"
  }
 },
 "nbformat": 4,
 "nbformat_minor": 5
}

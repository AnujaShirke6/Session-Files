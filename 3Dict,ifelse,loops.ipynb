{
 "cells": [
  {
   "cell_type": "code",
   "execution_count": 1,
   "id": "dea203b9-6c85-4550-8ca4-b9f3faaabf87",
   "metadata": {},
   "outputs": [],
   "source": [
    "#DICTIONARY\n",
    "#KEY AND VALUE => PAIR\n",
    "d={}"
   ]
  },
  {
   "cell_type": "code",
   "execution_count": 2,
   "id": "d14bd575-1390-44ad-ba09-1927c41e01a2",
   "metadata": {},
   "outputs": [
    {
     "data": {
      "text/plain": [
       "dict"
      ]
     },
     "execution_count": 2,
     "metadata": {},
     "output_type": "execute_result"
    }
   ],
   "source": [
    "type(d)"
   ]
  },
  {
   "cell_type": "code",
   "execution_count": 3,
   "id": "b57cafe8-9756-46ea-8838-f5849fd9b7eb",
   "metadata": {},
   "outputs": [],
   "source": [
    "d1={'Key' : \"ANUJA\" } # THIS IS KEY AND VALUE RESP\n",
    "#CONSIDER ABOVE AS WORD AND MEANING\n",
    "\n",
    "#KEY SHOULD ALWAYS BE UNIQUE = IF KEY IS NOT UNIQUE THEN IT WILL UPDATE ITSELF\n",
    "#KEY CAN CONTAIN STRING OR INTEGER TYPE OF VALUE"
   ]
  },
  {
   "cell_type": "code",
   "execution_count": 4,
   "id": "78010501-7e86-4b30-b671-f4cd20f323f5",
   "metadata": {},
   "outputs": [
    {
     "data": {
      "text/plain": [
       "{'Key': 'ANUJA'}"
      ]
     },
     "execution_count": 4,
     "metadata": {},
     "output_type": "execute_result"
    }
   ],
   "source": [
    "d1"
   ]
  },
  {
   "cell_type": "code",
   "execution_count": 6,
   "id": "4d20961a-4506-4e17-aec9-d4ef2cc973a1",
   "metadata": {},
   "outputs": [],
   "source": [
    "d2={'Name':'Sudhanshu', 'Email' : 'ss@gmail.com' ,'Mob no': '80188444500'}"
   ]
  },
  {
   "cell_type": "code",
   "execution_count": 7,
   "id": "f55250d1-2316-4ba4-a8be-4dbf110a349a",
   "metadata": {},
   "outputs": [
    {
     "data": {
      "text/plain": [
       "{'Name': 'Sudhanshu', 'Email': 'ss@gmail.com', 'Mob no': '80188444500'}"
      ]
     },
     "execution_count": 7,
     "metadata": {},
     "output_type": "execute_result"
    }
   ],
   "source": [
    "d2"
   ]
  },
  {
   "cell_type": "code",
   "execution_count": 11,
   "id": "26d96f32-7307-4abc-9648-4c160573b955",
   "metadata": {},
   "outputs": [],
   "source": [
    "d3={234:\"Sudh\", '_wer': \"%HSDHK\", True: 0}"
   ]
  },
  {
   "cell_type": "code",
   "execution_count": 12,
   "id": "b845c7e7-3ee5-4b65-ad31-fa3c1216ac27",
   "metadata": {},
   "outputs": [
    {
     "data": {
      "text/plain": [
       "{234: 'Sudh', '_wer': '%HSDHK', True: 0}"
      ]
     },
     "execution_count": 12,
     "metadata": {},
     "output_type": "execute_result"
    }
   ],
   "source": [
    "d3"
   ]
  },
  {
   "cell_type": "code",
   "execution_count": 16,
   "id": "413d4935-438a-4b21-a32b-48b195542585",
   "metadata": {},
   "outputs": [
    {
     "data": {
      "text/plain": [
       "'Sudh'"
      ]
     },
     "execution_count": 16,
     "metadata": {},
     "output_type": "execute_result"
    }
   ],
   "source": [
    "d3[234] #cannot access values through index had to use key\n",
    "##consider as word and its meaning"
   ]
  },
  {
   "cell_type": "code",
   "execution_count": 17,
   "id": "9a30aaec-a737-4291-a9e6-27cbd49c0c88",
   "metadata": {},
   "outputs": [
    {
     "data": {
      "text/plain": [
       "0"
      ]
     },
     "execution_count": 17,
     "metadata": {},
     "output_type": "execute_result"
    }
   ],
   "source": [
    "d3[True]"
   ]
  },
  {
   "cell_type": "code",
   "execution_count": 18,
   "id": "0d7733f6-36c1-41f4-a038-a5dcc50ac2f6",
   "metadata": {},
   "outputs": [
    {
     "data": {
      "text/plain": [
       "0"
      ]
     },
     "execution_count": 18,
     "metadata": {},
     "output_type": "execute_result"
    }
   ],
   "source": [
    "d3[1] #1=True-> True=0 in dict so op is 0"
   ]
  },
  {
   "cell_type": "code",
   "execution_count": 1,
   "id": "de386861-3ac8-444c-85be-834c29543fa7",
   "metadata": {},
   "outputs": [],
   "source": [
    "d4={'Name':'Anuja','Mail id' :'aa@mail.com', 'Name':'sudhanshu'}"
   ]
  },
  {
   "cell_type": "code",
   "execution_count": 3,
   "id": "193cd2cc-9ce7-484f-ac57-1f0d23b54e30",
   "metadata": {},
   "outputs": [
    {
     "data": {
      "text/plain": [
       "'sudhanshu'"
      ]
     },
     "execution_count": 3,
     "metadata": {},
     "output_type": "execute_result"
    }
   ],
   "source": [
    "d4['Name'] #Key should always be unique-if its not unique then it'll override last key"
   ]
  },
  {
   "cell_type": "code",
   "execution_count": 4,
   "id": "79d44619-5862-4674-9e4a-9ac429a0c466",
   "metadata": {},
   "outputs": [],
   "source": [
    "d5={'company' : 'pwskills', 'courses': ['web dev','data science','dsa system design']}"
   ]
  },
  {
   "cell_type": "code",
   "execution_count": 6,
   "id": "2288271f-88d4-4a1e-a637-48c560ca5379",
   "metadata": {},
   "outputs": [
    {
     "data": {
      "text/plain": [
       "{'company': 'pwskills',\n",
       " 'courses': ['web dev', 'data science', 'dsa system design']}"
      ]
     },
     "execution_count": 6,
     "metadata": {},
     "output_type": "execute_result"
    }
   ],
   "source": [
    "d5"
   ]
  },
  {
   "cell_type": "code",
   "execution_count": 8,
   "id": "aa236dcf-7665-43c6-af6d-5fd509b98622",
   "metadata": {},
   "outputs": [
    {
     "data": {
      "text/plain": [
       "['web dev', 'data science', 'dsa system design']"
      ]
     },
     "execution_count": 8,
     "metadata": {},
     "output_type": "execute_result"
    }
   ],
   "source": [
    "d5['courses']"
   ]
  },
  {
   "cell_type": "code",
   "execution_count": 10,
   "id": "65db9e1b-9329-4044-ad55-13f2be744470",
   "metadata": {},
   "outputs": [
    {
     "data": {
      "text/plain": [
       "'dsa system design'"
      ]
     },
     "execution_count": 10,
     "metadata": {},
     "output_type": "execute_result"
    }
   ],
   "source": [
    "d5['courses'][2]"
   ]
  },
  {
   "cell_type": "code",
   "execution_count": 21,
   "id": "305bd5dd-8cb7-4f48-b4b5-dd1a6fab4ad0",
   "metadata": {},
   "outputs": [],
   "source": [
    "d6={'Number' : [23,45,67,85],'assignments' : (1,2,3,4,5,6), 'launch date' : {28,12,14}, \n",
    " 'class timing': {'Web Dev' : 8, 'Data Science' : 8, 'dsa system design' : 9}} # for dict we can access elements with key name"
   ]
  },
  {
   "cell_type": "code",
   "execution_count": 23,
   "id": "5963834d-b37d-471d-ab6a-4ce5426546dc",
   "metadata": {},
   "outputs": [
    {
     "data": {
      "text/plain": [
       "8"
      ]
     },
     "execution_count": 23,
     "metadata": {},
     "output_type": "execute_result"
    }
   ],
   "source": [
    "d6['class timing']['Web Dev']"
   ]
  },
  {
   "cell_type": "code",
   "execution_count": 22,
   "id": "9c39b471-cea5-4eb7-bc97-811b2e6781ed",
   "metadata": {},
   "outputs": [
    {
     "data": {
      "text/plain": [
       "{'Number': [23, 45, 67, 85],\n",
       " 'assignments': (1, 2, 3, 4, 5, 6),\n",
       " 'launch date': {12, 14, 28},\n",
       " 'class timing': {'Web Dev': 8, 'Data Science': 8, 'dsa system design': 9}}"
      ]
     },
     "execution_count": 22,
     "metadata": {},
     "output_type": "execute_result"
    }
   ],
   "source": [
    "d6"
   ]
  },
  {
   "cell_type": "code",
   "execution_count": 24,
   "id": "3f9f9544-7d2b-4e99-a683-30431fa5dc15",
   "metadata": {},
   "outputs": [
    {
     "data": {
      "text/plain": [
       "67"
      ]
     },
     "execution_count": 24,
     "metadata": {},
     "output_type": "execute_result"
    }
   ],
   "source": [
    "d6['Number'][2]"
   ]
  },
  {
   "cell_type": "code",
   "execution_count": 25,
   "id": "9afd79bb-4513-41fe-a006-75f5177af51c",
   "metadata": {},
   "outputs": [],
   "source": [
    "d6['Mentor']=['Sudhanshu', 'Krish', 'Hayder'] #to add key in dictionary if it is unique\n",
    "#normal method"
   ]
  },
  {
   "cell_type": "code",
   "execution_count": 26,
   "id": "3b4d23f2-4a77-4cf1-8989-de3d5f815384",
   "metadata": {},
   "outputs": [
    {
     "data": {
      "text/plain": [
       "{'Number': [23, 45, 67, 85],\n",
       " 'assignments': (1, 2, 3, 4, 5, 6),\n",
       " 'launch date': {12, 14, 28},\n",
       " 'class timing': {'Web Dev': 8, 'Data Science': 8, 'dsa system design': 9},\n",
       " 'Mentor': ['Sudhanshu', 'Krish', 'Hayder']}"
      ]
     },
     "execution_count": 26,
     "metadata": {},
     "output_type": "execute_result"
    }
   ],
   "source": [
    "d6"
   ]
  },
  {
   "cell_type": "code",
   "execution_count": 27,
   "id": "6490cab8-bffc-4163-9c0c-b41ae9cd5d7b",
   "metadata": {},
   "outputs": [],
   "source": [
    "d6['Mentor']=['Sudhanshu K','Krish N']"
   ]
  },
  {
   "cell_type": "code",
   "execution_count": 28,
   "id": "254e3d40-8114-4a38-98e1-2b2a4248a87f",
   "metadata": {},
   "outputs": [
    {
     "data": {
      "text/plain": [
       "{'Number': [23, 45, 67, 85],\n",
       " 'assignments': (1, 2, 3, 4, 5, 6),\n",
       " 'launch date': {12, 14, 28},\n",
       " 'class timing': {'Web Dev': 8, 'Data Science': 8, 'dsa system design': 9},\n",
       " 'Mentor': ['Sudhanshu K', 'Krish N']}"
      ]
     },
     "execution_count": 28,
     "metadata": {},
     "output_type": "execute_result"
    }
   ],
   "source": [
    " d6 #updted key with newest data"
   ]
  },
  {
   "cell_type": "code",
   "execution_count": 29,
   "id": "83eef330-aecf-4121-97e7-d6e06e77bcb5",
   "metadata": {},
   "outputs": [],
   "source": [
    "del d6['Number']"
   ]
  },
  {
   "cell_type": "code",
   "execution_count": 30,
   "id": "d55e12a0-6373-4ae3-970a-770943a19f81",
   "metadata": {},
   "outputs": [
    {
     "data": {
      "text/plain": [
       "{'assignments': (1, 2, 3, 4, 5, 6),\n",
       " 'launch date': {12, 14, 28},\n",
       " 'class timing': {'Web Dev': 8, 'Data Science': 8, 'dsa system design': 9},\n",
       " 'Mentor': ['Sudhanshu K', 'Krish N']}"
      ]
     },
     "execution_count": 30,
     "metadata": {},
     "output_type": "execute_result"
    }
   ],
   "source": [
    "d6"
   ]
  },
  {
   "cell_type": "code",
   "execution_count": 31,
   "id": "d5c628dc-4cf2-4ef2-90ef-3a8c97b006c0",
   "metadata": {},
   "outputs": [
    {
     "data": {
      "text/plain": [
       "dict_keys(['assignments', 'launch date', 'class timing', 'Mentor'])"
      ]
     },
     "execution_count": 31,
     "metadata": {},
     "output_type": "execute_result"
    }
   ],
   "source": [
    "d6.keys() #To obtain keys of dictionary"
   ]
  },
  {
   "cell_type": "code",
   "execution_count": 32,
   "id": "09cc73a4-af3a-4f4b-91aa-f66821e32b2f",
   "metadata": {},
   "outputs": [
    {
     "data": {
      "text/plain": [
       "['assignments', 'launch date', 'class timing', 'Mentor']"
      ]
     },
     "execution_count": 32,
     "metadata": {},
     "output_type": "execute_result"
    }
   ],
   "source": [
    "list(d6.keys()) #proper way in list"
   ]
  },
  {
   "cell_type": "code",
   "execution_count": 33,
   "id": "0cba0d50-c442-4d53-8225-76e089b795f7",
   "metadata": {},
   "outputs": [
    {
     "data": {
      "text/plain": [
       "dict_values([(1, 2, 3, 4, 5, 6), {28, 12, 14}, {'Web Dev': 8, 'Data Science': 8, 'dsa system design': 9}, ['Sudhanshu K', 'Krish N']])"
      ]
     },
     "execution_count": 33,
     "metadata": {},
     "output_type": "execute_result"
    }
   ],
   "source": [
    "d6.values()"
   ]
  },
  {
   "cell_type": "code",
   "execution_count": 34,
   "id": "d017f25f-f690-4f5b-a077-a4adefddf795",
   "metadata": {},
   "outputs": [
    {
     "data": {
      "text/plain": [
       "[(1, 2, 3, 4, 5, 6),\n",
       " {12, 14, 28},\n",
       " {'Web Dev': 8, 'Data Science': 8, 'dsa system design': 9},\n",
       " ['Sudhanshu K', 'Krish N']]"
      ]
     },
     "execution_count": 34,
     "metadata": {},
     "output_type": "execute_result"
    }
   ],
   "source": [
    "list(d6.values())"
   ]
  },
  {
   "cell_type": "code",
   "execution_count": 36,
   "id": "c566688d-a3f0-4fcb-b56c-3f2d89139a2b",
   "metadata": {},
   "outputs": [
    {
     "data": {
      "text/plain": [
       "dict_items([('assignments', (1, 2, 3, 4, 5, 6)), ('launch date', {28, 12, 14}), ('class timing', {'Web Dev': 8, 'Data Science': 8, 'dsa system design': 9}), ('Mentor', ['Sudhanshu K', 'Krish N'])])"
      ]
     },
     "execution_count": 36,
     "metadata": {},
     "output_type": "execute_result"
    }
   ],
   "source": [
    "d6.items()"
   ]
  },
  {
   "cell_type": "code",
   "execution_count": 38,
   "id": "63b59fb6-da00-4a18-94e9-ccd944f5e59f",
   "metadata": {},
   "outputs": [
    {
     "data": {
      "text/plain": [
       "[('assignments', (1, 2, 3, 4, 5, 6)),\n",
       " ('launch date', {12, 14, 28}),\n",
       " ('class timing', {'Web Dev': 8, 'Data Science': 8, 'dsa system design': 9}),\n",
       " ('Mentor', ['Sudhanshu K', 'Krish N'])]"
      ]
     },
     "execution_count": 38,
     "metadata": {},
     "output_type": "execute_result"
    }
   ],
   "source": [
    "list(d6.items()) # tuples holding key values"
   ]
  },
  {
   "cell_type": "code",
   "execution_count": 40,
   "id": "18c79625-d12b-49a9-bad3-5e997372d91f",
   "metadata": {},
   "outputs": [
    {
     "data": {
      "text/plain": [
       "(1, 2, 3, 4, 5, 6)"
      ]
     },
     "execution_count": 40,
     "metadata": {},
     "output_type": "execute_result"
    }
   ],
   "source": [
    "d6.pop('assignments')"
   ]
  },
  {
   "cell_type": "code",
   "execution_count": 41,
   "id": "6d3c3687-057e-46ac-9bc2-3a15060ac457",
   "metadata": {},
   "outputs": [
    {
     "data": {
      "text/plain": [
       "{'launch date': {12, 14, 28},\n",
       " 'class timing': {'Web Dev': 8, 'Data Science': 8, 'dsa system design': 9},\n",
       " 'Mentor': ['Sudhanshu K', 'Krish N']}"
      ]
     },
     "execution_count": 41,
     "metadata": {},
     "output_type": "execute_result"
    }
   ],
   "source": [
    "d6"
   ]
  },
  {
   "cell_type": "code",
   "execution_count": 2,
   "id": "c47185e5-2737-413e-ae13-7ed7e99230b2",
   "metadata": {},
   "outputs": [
    {
     "name": "stdout",
     "output_type": "stream",
     "text": [
      "You will be part of A0 batch\n"
     ]
    }
   ],
   "source": [
    "marks=95\n",
    "if marks>=80:\n",
    "    print(\"You will be part of A0 batch\")\n",
    "elif marks>=60 and marks<80:\n",
    "    print(\"You will be part of B0 batch\")\n",
    "elif marks>=40 and marks<60:\n",
    "    print(\"You will be part of C0 batch\")\n",
    "else:\n",
    "    print(\"You will be part of D0 batch\")"
   ]
  },
  {
   "cell_type": "code",
   "execution_count": 1,
   "id": "c267798f-e93d-40ca-9d43-91f6ea9c86e6",
   "metadata": {},
   "outputs": [
    {
     "data": {
      "text/plain": [
       "False"
      ]
     },
     "execution_count": 1,
     "metadata": {},
     "output_type": "execute_result"
    }
   ],
   "source": [
    "10>=80\n"
   ]
  },
  {
   "cell_type": "code",
   "execution_count": 2,
   "id": "447c2a80-e131-47e4-85db-e627cdfbdeae",
   "metadata": {},
   "outputs": [
    {
     "name": "stdin",
     "output_type": "stream",
     "text": [
      "Enter marks obtained: 45\n"
     ]
    }
   ],
   "source": [
    "marks=input(\"Enter marks obtained:\")"
   ]
  },
  {
   "cell_type": "code",
   "execution_count": 3,
   "id": "8573f909-3484-4608-a0ca-f6fb8a2df39e",
   "metadata": {},
   "outputs": [
    {
     "data": {
      "text/plain": [
       "'45'"
      ]
     },
     "execution_count": 3,
     "metadata": {},
     "output_type": "execute_result"
    }
   ],
   "source": [
    "marks"
   ]
  },
  {
   "cell_type": "code",
   "execution_count": 4,
   "id": "8909c961-2025-4c6a-841e-e90eac3b6e7d",
   "metadata": {},
   "outputs": [
    {
     "data": {
      "text/plain": [
       "str"
      ]
     },
     "execution_count": 4,
     "metadata": {},
     "output_type": "execute_result"
    }
   ],
   "source": [
    "type(marks) #hence cannot compare marks (string)  to integer\n",
    "#so need to typecast"
   ]
  },
  {
   "cell_type": "code",
   "execution_count": 6,
   "id": "c429dfec-c609-4d15-be8c-3bd140c3def5",
   "metadata": {},
   "outputs": [
    {
     "name": "stdin",
     "output_type": "stream",
     "text": [
      "Enter marks obtained: 45\n"
     ]
    },
    {
     "name": "stdout",
     "output_type": "stream",
     "text": [
      "You will be part of C0 batch\n"
     ]
    }
   ],
   "source": [
    "marks=int (input(\"Enter marks obtained:\"))\n",
    "if marks>=80:\n",
    "    print(\"You will be part of A0 batch\")\n",
    "elif marks>=60 and marks<80:\n",
    "    print(\"You will be part of B0 batch\")\n",
    "elif marks>=40 and marks<60:\n",
    "    print(\"You will be part of C0 batch\")\n",
    "else:\n",
    "    print(\"You will be part of D0 batch\")"
   ]
  },
  {
   "cell_type": "code",
   "execution_count": 7,
   "id": "58dcb037-713e-4bc0-886f-9382759f727c",
   "metadata": {},
   "outputs": [
    {
     "data": {
      "text/plain": [
       "int"
      ]
     },
     "execution_count": 7,
     "metadata": {},
     "output_type": "execute_result"
    }
   ],
   "source": [
    "type(marks)"
   ]
  },
  {
   "cell_type": "code",
   "execution_count": 8,
   "id": "16ba9d5a-bee3-4794-8fa0-fdf77043c985",
   "metadata": {},
   "outputs": [
    {
     "data": {
      "text/plain": [
       "45"
      ]
     },
     "execution_count": 8,
     "metadata": {},
     "output_type": "execute_result"
    }
   ],
   "source": [
    "marks\n"
   ]
  },
  {
   "cell_type": "code",
   "execution_count": 2,
   "id": "3ea6e4c1-7fd4-4422-be1c-8c209ad5a521",
   "metadata": {},
   "outputs": [
    {
     "name": "stdin",
     "output_type": "stream",
     "text": [
      "Enter price 5000\n"
     ]
    },
    {
     "name": "stdout",
     "output_type": "stream",
     "text": [
      "I will not purchase\n"
     ]
    }
   ],
   "source": [
    "price = int( input(\"Enter price\"))\n",
    "if price > 1000:\n",
    " print('I will not purchase')\n",
    "else:\n",
    "    print(\"I'll purchase\")"
   ]
  },
  {
   "cell_type": "code",
   "execution_count": 12,
   "id": "ae9fdff1-154b-41c2-b9be-6dc1f6e37399",
   "metadata": {},
   "outputs": [
    {
     "name": "stdin",
     "output_type": "stream",
     "text": [
      "Enter price 8500\n"
     ]
    },
    {
     "name": "stdout",
     "output_type": "stream",
     "text": [
      "It is too expensive\n",
      "I will not purchase this product\n",
      "Not Interested\n"
     ]
    }
   ],
   "source": [
    "price = int( input(\"Enter price\"))\n",
    "if price >= 5000 :\n",
    "    print(\"It is too expensive\")\n",
    "    print('I will not purchase this product')\n",
    "if price <= 2000:\n",
    "    print(\"It is ok to buy\")\n",
    "elif price < 1000 :\n",
    "    print (\"I will purchase\")\n",
    "                \n",
    "else :\n",
    "    print(\"Not Interested\")\n"
   ]
  },
  {
   "cell_type": "code",
   "execution_count": 44,
   "id": "7096ea0a-56c6-42e0-b8be-56974703ce9d",
   "metadata": {},
   "outputs": [],
   "source": [
    "l=[1,2,3,4,5,5,6,7,8]"
   ]
  },
  {
   "cell_type": "code",
   "execution_count": 14,
   "id": "6a4b31f1-2202-4ba4-8c1d-e6e1af2a2772",
   "metadata": {},
   "outputs": [
    {
     "data": {
      "text/plain": [
       "2"
      ]
     },
     "execution_count": 14,
     "metadata": {},
     "output_type": "execute_result"
    }
   ],
   "source": [
    "l[0]+1"
   ]
  },
  {
   "cell_type": "code",
   "execution_count": 15,
   "id": "2981733e-eb7a-47c9-b54c-ff55ad8bbea1",
   "metadata": {},
   "outputs": [],
   "source": [
    "l1=[]"
   ]
  },
  {
   "cell_type": "code",
   "execution_count": 17,
   "id": "1a750ea4-18e3-4b90-abd6-be87237b9508",
   "metadata": {},
   "outputs": [],
   "source": [
    "l1.append(l[0]+1)"
   ]
  },
  {
   "cell_type": "code",
   "execution_count": 18,
   "id": "6b1bcb65-af6b-4fe2-8125-3b0773f86382",
   "metadata": {},
   "outputs": [
    {
     "data": {
      "text/plain": [
       "[2]"
      ]
     },
     "execution_count": 18,
     "metadata": {},
     "output_type": "execute_result"
    }
   ],
   "source": [
    "l1"
   ]
  },
  {
   "cell_type": "code",
   "execution_count": 19,
   "id": "4a93a8f9-3890-49d1-b3d2-aced1da4f03b",
   "metadata": {},
   "outputs": [],
   "source": [
    "l1.append(l[1]+1)"
   ]
  },
  {
   "cell_type": "code",
   "execution_count": 20,
   "id": "1951b4e4-1a2b-451c-af4d-42384bed15e9",
   "metadata": {},
   "outputs": [
    {
     "data": {
      "text/plain": [
       "[2, 3]"
      ]
     },
     "execution_count": 20,
     "metadata": {},
     "output_type": "execute_result"
    }
   ],
   "source": [
    "l1"
   ]
  },
  {
   "cell_type": "code",
   "execution_count": 21,
   "id": "50ea71c0-95f3-493d-880d-7b33495c7218",
   "metadata": {},
   "outputs": [],
   "source": [
    "l1.append(l[2]+1)"
   ]
  },
  {
   "cell_type": "code",
   "execution_count": 22,
   "id": "5a580ab3-b577-472f-902b-00f3674667e8",
   "metadata": {},
   "outputs": [
    {
     "data": {
      "text/plain": [
       "[2, 3, 4]"
      ]
     },
     "execution_count": 22,
     "metadata": {},
     "output_type": "execute_result"
    }
   ],
   "source": [
    "l1 # want loop"
   ]
  },
  {
   "cell_type": "code",
   "execution_count": 23,
   "id": "5a0a6891-102a-43d8-b338-557c278165bf",
   "metadata": {},
   "outputs": [
    {
     "name": "stdout",
     "output_type": "stream",
     "text": [
      "1\n",
      "2\n",
      "3\n",
      "4\n",
      "5\n",
      "5\n",
      "6\n",
      "7\n",
      "8\n"
     ]
    }
   ],
   "source": [
    "for i in l:\n",
    "    print(i)"
   ]
  },
  {
   "cell_type": "code",
   "execution_count": 33,
   "id": "07e2cbcb-0e52-4714-a176-3f9b2e8e7d72",
   "metadata": {},
   "outputs": [
    {
     "name": "stdout",
     "output_type": "stream",
     "text": [
      "2\n",
      "3\n",
      "4\n",
      "5\n",
      "6\n",
      "6\n",
      "7\n",
      "8\n",
      "9\n"
     ]
    }
   ],
   "source": [
    "for i in l:\n",
    "    print(i+1)"
   ]
  },
  {
   "cell_type": "code",
   "execution_count": 39,
   "id": "626eb25f-18c1-4e74-b332-8f79b205e342",
   "metadata": {},
   "outputs": [
    {
     "name": "stdout",
     "output_type": "stream",
     "text": [
      "2\n",
      "3\n",
      "4\n",
      "5\n",
      "6\n",
      "6\n",
      "7\n",
      "8\n",
      "9\n"
     ]
    },
    {
     "data": {
      "text/plain": [
       "[2, 3, 4, 5, 6, 6, 7, 8, 9]"
      ]
     },
     "execution_count": 39,
     "metadata": {},
     "output_type": "execute_result"
    }
   ],
   "source": [
    "l1 = []\n",
    "for i in l:\n",
    "    print (i+1)\n",
    "    l1.append(i+1)\n",
    "l1"
   ]
  },
  {
   "cell_type": "code",
   "execution_count": 45,
   "id": "6327489f-b2b9-46d6-b157-c48c696a0937",
   "metadata": {},
   "outputs": [
    {
     "data": {
      "text/plain": [
       "[1, 2, 3, 4, 5, 5, 6, 7, 8]"
      ]
     },
     "execution_count": 45,
     "metadata": {},
     "output_type": "execute_result"
    }
   ],
   "source": [
    "l"
   ]
  },
  {
   "cell_type": "code",
   "execution_count": 85,
   "id": "1f10935a-8918-4090-828c-ae342a066dfa",
   "metadata": {},
   "outputs": [],
   "source": [
    "a=[\"sudh\", \"kumar\", \"pwskills\",\"course\"]"
   ]
  },
  {
   "cell_type": "code",
   "execution_count": 92,
   "id": "efda4795-820f-47dd-ad85-b19c09284248",
   "metadata": {},
   "outputs": [
    {
     "name": "stdout",
     "output_type": "stream",
     "text": [
      "sudh\n",
      "kumar\n",
      "pwskills\n",
      "course\n"
     ]
    },
    {
     "data": {
      "text/plain": [
       "['SUDH', 'KUMAR', 'PWSKILLS', 'COURSE']"
      ]
     },
     "execution_count": 92,
     "metadata": {},
     "output_type": "execute_result"
    }
   ],
   "source": [
    "b=[]\n",
    "for i in a:\n",
    "    b.append(i.upper())\n",
    "    print(i)\n",
    "b"
   ]
  },
  {
   "cell_type": "code",
   "execution_count": 93,
   "id": "5d0b6e40-2859-4c7a-8291-9c92d8ca072e",
   "metadata": {},
   "outputs": [],
   "source": [
    "l=[1,2,3,4,4,'sudh','kumar',324,32.456,'abc']"
   ]
  },
  {
   "cell_type": "code",
   "execution_count": 97,
   "id": "9999acfa-50d6-4233-8a20-c8e4e93c98a8",
   "metadata": {},
   "outputs": [],
   "source": [
    "c_int=[]\n",
    "d_str=[]\n",
    "for i in l:\n",
    "    if type(i)== int or type(i)==float :\n",
    "        c_int.append(i)\n",
    "    else:\n",
    "        d_str.append(i)"
   ]
  },
  {
   "cell_type": "code",
   "execution_count": 98,
   "id": "4e703cf1-0a63-4258-9dfa-442767f93ed7",
   "metadata": {},
   "outputs": [
    {
     "data": {
      "text/plain": [
       "[1, 2, 3, 4, 4, 324, 32.456]"
      ]
     },
     "execution_count": 98,
     "metadata": {},
     "output_type": "execute_result"
    }
   ],
   "source": [
    "c_int"
   ]
  },
  {
   "cell_type": "code",
   "execution_count": 99,
   "id": "868ea6ed-c6a9-4a82-881d-d53c9d9ecd70",
   "metadata": {},
   "outputs": [
    {
     "data": {
      "text/plain": [
       "['sudh', 'kumar', 'abc']"
      ]
     },
     "execution_count": 99,
     "metadata": {},
     "output_type": "execute_result"
    }
   ],
   "source": [
    "d_str"
   ]
  },
  {
   "cell_type": "code",
   "execution_count": null,
   "id": "9d32b88e-eba5-450f-8f6b-0a14717b91ba",
   "metadata": {},
   "outputs": [],
   "source": []
  }
 ],
 "metadata": {
  "kernelspec": {
   "display_name": "Python 3 (ipykernel)",
   "language": "python",
   "name": "python3"
  },
  "language_info": {
   "codemirror_mode": {
    "name": "ipython",
    "version": 3
   },
   "file_extension": ".py",
   "mimetype": "text/x-python",
   "name": "python",
   "nbconvert_exporter": "python",
   "pygments_lexer": "ipython3",
   "version": "3.10.8"
  }
 },
 "nbformat": 4,
 "nbformat_minor": 5
}

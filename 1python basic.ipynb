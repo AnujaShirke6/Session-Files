{
 "cells": [
  {
   "cell_type": "code",
   "execution_count": 6,
   "id": "4f877900-04e5-403f-bcea-0a3f88723728",
   "metadata": {},
   "outputs": [
    {
     "data": {
      "text/plain": [
       "4.0"
      ]
     },
     "execution_count": 6,
     "metadata": {},
     "output_type": "execute_result"
    }
   ],
   "source": [
    "5-5/5"
   ]
  },
  {
   "cell_type": "code",
   "execution_count": 2,
   "id": "79865f06-b833-4a6c-86db-2403ac991e55",
   "metadata": {},
   "outputs": [
    {
     "data": {
      "text/plain": [
       "25"
      ]
     },
     "execution_count": 2,
     "metadata": {},
     "output_type": "execute_result"
    }
   ],
   "source": [
    "5*5"
   ]
  },
  {
   "cell_type": "code",
   "execution_count": 7,
   "id": "fac7b1f0-8903-444c-86c4-3c272be6fbb2",
   "metadata": {},
   "outputs": [],
   "source": [
    "a=55"
   ]
  },
  {
   "cell_type": "code",
   "execution_count": 8,
   "id": "c5b17701-dd62-4a83-9541-6d5d238e7c79",
   "metadata": {},
   "outputs": [
    {
     "data": {
      "text/plain": [
       "55"
      ]
     },
     "execution_count": 8,
     "metadata": {},
     "output_type": "execute_result"
    }
   ],
   "source": [
    "a"
   ]
  },
  {
   "cell_type": "code",
   "execution_count": 23,
   "id": "9d150c57-ba04-4814-8538-cd89000f8c5f",
   "metadata": {},
   "outputs": [],
   "source": [
    "Sudhanshu = 85.85"
   ]
  },
  {
   "cell_type": "code",
   "execution_count": 24,
   "id": "217391c8-8a39-4055-9a57-cfbad249be5d",
   "metadata": {},
   "outputs": [
    {
     "data": {
      "text/plain": [
       "85.85"
      ]
     },
     "execution_count": 24,
     "metadata": {},
     "output_type": "execute_result"
    }
   ],
   "source": [
    "Sudhanshu"
   ]
  },
  {
   "cell_type": "code",
   "execution_count": 25,
   "id": "c426ab17-8ce8-4e11-9684-32475b26d40a",
   "metadata": {},
   "outputs": [
    {
     "data": {
      "text/plain": [
       "140.85"
      ]
     },
     "execution_count": 25,
     "metadata": {},
     "output_type": "execute_result"
    }
   ],
   "source": [
    "a+Sudhanshu"
   ]
  },
  {
   "cell_type": "code",
   "execution_count": 26,
   "id": "8aa568e5-dedc-4f3d-9082-294c0ac1e8d5",
   "metadata": {},
   "outputs": [
    {
     "data": {
      "text/plain": [
       "float"
      ]
     },
     "execution_count": 26,
     "metadata": {},
     "output_type": "execute_result"
    }
   ],
   "source": [
    "type(Sudhanshu)"
   ]
  },
  {
   "cell_type": "code",
   "execution_count": 16,
   "id": "685206ff-c930-4c50-a749-64769853c830",
   "metadata": {},
   "outputs": [
    {
     "data": {
      "text/plain": [
       "int"
      ]
     },
     "execution_count": 16,
     "metadata": {},
     "output_type": "execute_result"
    }
   ],
   "source": [
    "type(a)"
   ]
  },
  {
   "cell_type": "code",
   "execution_count": 31,
   "id": "8bf6cd3b-f570-4120-8d30-5794a8ce6134",
   "metadata": {},
   "outputs": [],
   "source": [
    "b  =  'ANUJA'"
   ]
  },
  {
   "cell_type": "code",
   "execution_count": 33,
   "id": "a531d19c-e15c-479a-933e-540852d5ecf9",
   "metadata": {},
   "outputs": [
    {
     "data": {
      "text/plain": [
       "'ANUJA'"
      ]
     },
     "execution_count": 33,
     "metadata": {},
     "output_type": "execute_result"
    }
   ],
   "source": [
    "b"
   ]
  },
  {
   "cell_type": "code",
   "execution_count": 29,
   "id": "08dc75b1-ab08-4340-a9ce-e143277598fc",
   "metadata": {},
   "outputs": [
    {
     "data": {
      "text/plain": [
       "str"
      ]
     },
     "execution_count": 29,
     "metadata": {},
     "output_type": "execute_result"
    }
   ],
   "source": [
    "type(b)"
   ]
  },
  {
   "cell_type": "code",
   "execution_count": 34,
   "id": "64dba893-8327-4544-afa0-5c11563640d7",
   "metadata": {},
   "outputs": [],
   "source": [
    "c=\"THIS IS MY FIRST CLASS\""
   ]
  },
  {
   "cell_type": "code",
   "execution_count": 35,
   "id": "33b32c17-7cc1-4c51-9672-c5c0b519fdda",
   "metadata": {},
   "outputs": [
    {
     "data": {
      "text/plain": [
       "'THIS IS MY FIRST CLASS'"
      ]
     },
     "execution_count": 35,
     "metadata": {},
     "output_type": "execute_result"
    }
   ],
   "source": [
    "c"
   ]
  },
  {
   "cell_type": "code",
   "execution_count": 36,
   "id": "6a76b669-b004-40c7-8e97-31bfaf560002",
   "metadata": {},
   "outputs": [
    {
     "data": {
      "text/plain": [
       "str"
      ]
     },
     "execution_count": 36,
     "metadata": {},
     "output_type": "execute_result"
    }
   ],
   "source": [
    "type(c)"
   ]
  },
  {
   "cell_type": "code",
   "execution_count": 41,
   "id": "1b7ac6a9-eb0e-4ae7-b347-f48fd2a50f77",
   "metadata": {},
   "outputs": [],
   "source": [
    "n=True"
   ]
  },
  {
   "cell_type": "code",
   "execution_count": 42,
   "id": "a052d620-4407-4651-8410-ad22133a9305",
   "metadata": {},
   "outputs": [
    {
     "data": {
      "text/plain": [
       "bool"
      ]
     },
     "execution_count": 42,
     "metadata": {},
     "output_type": "execute_result"
    }
   ],
   "source": [
    "type(n)"
   ]
  },
  {
   "cell_type": "code",
   "execution_count": 44,
   "id": "d5818ee0-d0f2-41c4-8398-801e498ddecb",
   "metadata": {},
   "outputs": [],
   "source": [
    "m=False"
   ]
  },
  {
   "cell_type": "code",
   "execution_count": 45,
   "id": "bb89b016-1cc8-474d-ae0d-7f4e4f9e2220",
   "metadata": {},
   "outputs": [
    {
     "data": {
      "text/plain": [
       "bool"
      ]
     },
     "execution_count": 45,
     "metadata": {},
     "output_type": "execute_result"
    }
   ],
   "source": [
    "type(m)"
   ]
  },
  {
   "cell_type": "code",
   "execution_count": 46,
   "id": "0dfbe7af-76ce-4bc8-811a-4ec17a70ddb2",
   "metadata": {},
   "outputs": [
    {
     "data": {
      "text/plain": [
       "False"
      ]
     },
     "execution_count": 46,
     "metadata": {},
     "output_type": "execute_result"
    }
   ],
   "source": [
    "m"
   ]
  },
  {
   "cell_type": "code",
   "execution_count": 47,
   "id": "c038a1e7-d9f4-405c-9c6e-5cc0f24187c7",
   "metadata": {},
   "outputs": [
    {
     "data": {
      "text/plain": [
       "1"
      ]
     },
     "execution_count": 47,
     "metadata": {},
     "output_type": "execute_result"
    }
   ],
   "source": [
    "n*n"
   ]
  },
  {
   "cell_type": "code",
   "execution_count": 48,
   "id": "7fac1644-d613-49b3-a173-be5679c108a7",
   "metadata": {},
   "outputs": [
    {
     "data": {
      "text/plain": [
       "0"
      ]
     },
     "execution_count": 48,
     "metadata": {},
     "output_type": "execute_result"
    }
   ],
   "source": [
    "n*m"
   ]
  },
  {
   "cell_type": "code",
   "execution_count": 49,
   "id": "5b1c9408-1125-4a59-8bdf-4ba339e7c3ac",
   "metadata": {},
   "outputs": [
    {
     "data": {
      "text/plain": [
       "1"
      ]
     },
     "execution_count": 49,
     "metadata": {},
     "output_type": "execute_result"
    }
   ],
   "source": [
    "n+m"
   ]
  },
  {
   "cell_type": "code",
   "execution_count": 51,
   "id": "22047d6f-b25d-42a0-8271-d75a269e3b64",
   "metadata": {},
   "outputs": [
    {
     "data": {
      "text/plain": [
       "1"
      ]
     },
     "execution_count": 51,
     "metadata": {},
     "output_type": "execute_result"
    }
   ],
   "source": [
    "True*True"
   ]
  },
  {
   "cell_type": "code",
   "execution_count": 53,
   "id": "4d5ff58b-2067-4d40-bcff-55b5d74ce518",
   "metadata": {},
   "outputs": [
    {
     "ename": "ZeroDivisionError",
     "evalue": "division by zero",
     "output_type": "error",
     "traceback": [
      "\u001b[0;31m---------------------------------------------------------------------------\u001b[0m",
      "\u001b[0;31mZeroDivisionError\u001b[0m                         Traceback (most recent call last)",
      "Cell \u001b[0;32mIn[53], line 1\u001b[0m\n\u001b[0;32m----> 1\u001b[0m \u001b[38;5;28;43;01mTrue\u001b[39;49;00m\u001b[38;5;241;43m/\u001b[39;49m\u001b[38;5;28;43;01mFalse\u001b[39;49;00m\n",
      "\u001b[0;31mZeroDivisionError\u001b[0m: division by zero"
     ]
    }
   ],
   "source": [
    "True/False"
   ]
  },
  {
   "cell_type": "code",
   "execution_count": 54,
   "id": "028b97b8-b1d1-4cee-8288-c813f77e3d29",
   "metadata": {},
   "outputs": [],
   "source": [
    "v=5+8j"
   ]
  },
  {
   "cell_type": "code",
   "execution_count": 55,
   "id": "36872faf-a4f4-41e3-91e1-6487f44e0fc1",
   "metadata": {},
   "outputs": [
    {
     "data": {
      "text/plain": [
       "complex"
      ]
     },
     "execution_count": 55,
     "metadata": {},
     "output_type": "execute_result"
    }
   ],
   "source": [
    "type(v)"
   ]
  },
  {
   "cell_type": "code",
   "execution_count": 56,
   "id": "46a329f3-953d-40cf-83ab-c09d2f81def2",
   "metadata": {},
   "outputs": [
    {
     "data": {
      "text/plain": [
       "5.0"
      ]
     },
     "execution_count": 56,
     "metadata": {},
     "output_type": "execute_result"
    }
   ],
   "source": [
    "v.real"
   ]
  },
  {
   "cell_type": "code",
   "execution_count": 57,
   "id": "b89b4f10-6a64-4c71-a47d-93c20bd623ef",
   "metadata": {},
   "outputs": [
    {
     "data": {
      "text/plain": [
       "8.0"
      ]
     },
     "execution_count": 57,
     "metadata": {},
     "output_type": "execute_result"
    }
   ],
   "source": [
    "v.imag"
   ]
  },
  {
   "cell_type": "code",
   "execution_count": 58,
   "id": "29498722-5b9c-4050-83c0-d0843c2ea0d1",
   "metadata": {},
   "outputs": [
    {
     "data": {
      "text/plain": [
       "(5+8j)"
      ]
     },
     "execution_count": 58,
     "metadata": {},
     "output_type": "execute_result"
    }
   ],
   "source": [
    "v"
   ]
  },
  {
   "cell_type": "code",
   "execution_count": 59,
   "id": "e435c7eb-8daf-4c1c-9dc5-e6d8d8e0ed7c",
   "metadata": {},
   "outputs": [
    {
     "name": "stdout",
     "output_type": "stream",
     "text": [
      "Hi Anuja Deepak Shirke Here!\n"
     ]
    }
   ],
   "source": [
    "print(\"Hi Anuja Deepak Shirke Here!\")"
   ]
  },
  {
   "cell_type": "code",
   "execution_count": 60,
   "id": "8d89e4b9-e9e1-4f49-9642-4d985db083eb",
   "metadata": {},
   "outputs": [
    {
     "name": "stdout",
     "output_type": "stream",
     "text": [
      "ANUJA\n"
     ]
    }
   ],
   "source": [
    "print(b)"
   ]
  },
  {
   "cell_type": "code",
   "execution_count": 62,
   "id": "b65c245d-215c-432e-a58f-b5eb52bb4cd8",
   "metadata": {},
   "outputs": [
    {
     "name": "stdout",
     "output_type": "stream",
     "text": [
      "85.85\n"
     ]
    }
   ],
   "source": [
    "print(Sudhanshu)"
   ]
  },
  {
   "cell_type": "code",
   "execution_count": 15,
   "id": "74a3a9e3-2335-4be8-9e03-2e6816b94db8",
   "metadata": {},
   "outputs": [],
   "source": [
    "s=\"pwskills\""
   ]
  },
  {
   "cell_type": "code",
   "execution_count": 64,
   "id": "69863cc7-18e5-488f-a2f9-2699a2dc2042",
   "metadata": {},
   "outputs": [
    {
     "data": {
      "text/plain": [
       "str"
      ]
     },
     "execution_count": 64,
     "metadata": {},
     "output_type": "execute_result"
    }
   ],
   "source": [
    "type(s)"
   ]
  },
  {
   "cell_type": "code",
   "execution_count": 65,
   "id": "438c27d9-7042-4f3c-8b39-349518710425",
   "metadata": {},
   "outputs": [
    {
     "data": {
      "text/plain": [
       "'p'"
      ]
     },
     "execution_count": 65,
     "metadata": {},
     "output_type": "execute_result"
    }
   ],
   "source": [
    "s[0]"
   ]
  },
  {
   "cell_type": "code",
   "execution_count": 69,
   "id": "73e53e8b-ff3a-487f-8809-8ec9b4308306",
   "metadata": {},
   "outputs": [
    {
     "data": {
      "text/plain": [
       "'w'"
      ]
     },
     "execution_count": 69,
     "metadata": {},
     "output_type": "execute_result"
    }
   ],
   "source": [
    "s[1]"
   ]
  },
  {
   "cell_type": "code",
   "execution_count": 70,
   "id": "fc592325-c461-4434-9fac-831a8a4dea67",
   "metadata": {},
   "outputs": [
    {
     "data": {
      "text/plain": [
       "'s'"
      ]
     },
     "execution_count": 70,
     "metadata": {},
     "output_type": "execute_result"
    }
   ],
   "source": [
    "s[2]"
   ]
  },
  {
   "cell_type": "code",
   "execution_count": 72,
   "id": "1050ac51-d360-4ac2-b1c7-c8e241a3a6a7",
   "metadata": {},
   "outputs": [
    {
     "data": {
      "text/plain": [
       "'J'"
      ]
     },
     "execution_count": 72,
     "metadata": {},
     "output_type": "execute_result"
    }
   ],
   "source": [
    "b[3]"
   ]
  },
  {
   "cell_type": "code",
   "execution_count": 73,
   "id": "e92b1f7f-ca01-48eb-a60b-b6f6da08e152",
   "metadata": {},
   "outputs": [
    {
     "data": {
      "text/plain": [
       "'s'"
      ]
     },
     "execution_count": 73,
     "metadata": {},
     "output_type": "execute_result"
    }
   ],
   "source": [
    "s[-1]"
   ]
  },
  {
   "cell_type": "code",
   "execution_count": 74,
   "id": "06b18263-dc84-4806-8a1c-df0373f992d9",
   "metadata": {},
   "outputs": [
    {
     "data": {
      "text/plain": [
       "'p'"
      ]
     },
     "execution_count": 74,
     "metadata": {},
     "output_type": "execute_result"
    }
   ],
   "source": [
    "s[-8]"
   ]
  },
  {
   "cell_type": "code",
   "execution_count": 83,
   "id": "ef9beeff-7c28-47ed-b058-5b217998fa98",
   "metadata": {},
   "outputs": [
    {
     "data": {
      "text/plain": [
       "'pw'"
      ]
     },
     "execution_count": 83,
     "metadata": {},
     "output_type": "execute_result"
    }
   ],
   "source": [
    "s[0:2] #//op will be uppperbound-1 2-1=1; op= [0:1] ie 'pw'"
   ]
  },
  {
   "cell_type": "code",
   "execution_count": 78,
   "id": "093b7fec-54dc-4412-89ec-847683cacedb",
   "metadata": {},
   "outputs": [
    {
     "data": {
      "text/plain": [
       "'kills'"
      ]
     },
     "execution_count": 78,
     "metadata": {},
     "output_type": "execute_result"
    }
   ],
   "source": [
    "s[3:8] #op will be 8-1=7 [3:7] ie.'kills'"
   ]
  },
  {
   "cell_type": "code",
   "execution_count": 80,
   "id": "e2865004-7cb2-40e7-90fa-318ae63dba00",
   "metadata": {},
   "outputs": [
    {
     "data": {
      "text/plain": [
       "'pwskills'"
      ]
     },
     "execution_count": 80,
     "metadata": {},
     "output_type": "execute_result"
    }
   ],
   "source": [
    "s[0:8]"
   ]
  },
  {
   "cell_type": "code",
   "execution_count": 84,
   "id": "b61046dd-ab7e-45f0-94f3-f9975a960cb9",
   "metadata": {},
   "outputs": [
    {
     "data": {
      "text/plain": [
       "'pwskills'"
      ]
     },
     "execution_count": 84,
     "metadata": {},
     "output_type": "execute_result"
    }
   ],
   "source": [
    "s[0:8] #first parameter is start of the string and last parameter is end of the string i.e 8-1 \n",
    "#by default jump value is 1"
   ]
  },
  {
   "cell_type": "code",
   "execution_count": 86,
   "id": "4aeff93b-7080-4101-87ac-24026d0ffec0",
   "metadata": {},
   "outputs": [
    {
     "data": {
      "text/plain": [
       "'pwskills'"
      ]
     },
     "execution_count": 86,
     "metadata": {},
     "output_type": "execute_result"
    }
   ],
   "source": [
    "s[0:8:1] #third parameter is no of jumps _ _ _ _ _ _ _ _ here we want to scan full string so second parameter is 8"
   ]
  },
  {
   "cell_type": "code",
   "execution_count": 87,
   "id": "2ec4ee87-3567-42ef-a9ce-42a6caf18a14",
   "metadata": {},
   "outputs": [
    {
     "data": {
      "text/plain": [
       "'psil'"
      ]
     },
     "execution_count": 87,
     "metadata": {},
     "output_type": "execute_result"
    }
   ],
   "source": [
    "s[0:8:2] #Now we want to jump on alternate characters and get op as psil"
   ]
  },
  {
   "cell_type": "code",
   "execution_count": 88,
   "id": "8b2316e0-26c3-49a8-8abf-832b28ef221c",
   "metadata": {},
   "outputs": [
    {
     "data": {
      "text/plain": [
       "'pk'"
      ]
     },
     "execution_count": 88,
     "metadata": {},
     "output_type": "execute_result"
    }
   ],
   "source": [
    "s[0:5:3] #jump after 3 chars"
   ]
  },
  {
   "cell_type": "code",
   "execution_count": 90,
   "id": "b95c31f1-5409-49ca-976b-69458ae5f0a4",
   "metadata": {},
   "outputs": [
    {
     "data": {
      "text/plain": [
       "'sil'"
      ]
     },
     "execution_count": 90,
     "metadata": {},
     "output_type": "execute_result"
    }
   ],
   "source": [
    "s[2::2] # ok to not define middle parameter will be considered as 'scantillend' Here scanning will start from 3rd char."
   ]
  },
  {
   "cell_type": "code",
   "execution_count": 91,
   "id": "958a3b1f-e38e-4054-b6f7-eb6bed13a716",
   "metadata": {},
   "outputs": [
    {
     "ename": "ValueError",
     "evalue": "slice step cannot be zero",
     "output_type": "error",
     "traceback": [
      "\u001b[0;31m---------------------------------------------------------------------------\u001b[0m",
      "\u001b[0;31mValueError\u001b[0m                                Traceback (most recent call last)",
      "Cell \u001b[0;32mIn[91], line 1\u001b[0m\n\u001b[0;32m----> 1\u001b[0m \u001b[43ms\u001b[49m\u001b[43m[\u001b[49m\u001b[38;5;241;43m2\u001b[39;49m\u001b[43m:\u001b[49m\u001b[43m:\u001b[49m\u001b[38;5;241;43m0\u001b[39;49m\u001b[43m]\u001b[49m\n",
      "\u001b[0;31mValueError\u001b[0m: slice step cannot be zero"
     ]
    }
   ],
   "source": [
    "s[2::0] # This method is called as slicing //agar kuch growth krna hai to kuch na kuch kadam uthane padenge :P ie Jump"
   ]
  },
  {
   "cell_type": "code",
   "execution_count": 92,
   "id": "fc2a47e7-5588-4680-b8f8-812c9a03f018",
   "metadata": {},
   "outputs": [],
   "source": [
    "#So Slice step cannot be zero"
   ]
  },
  {
   "cell_type": "code",
   "execution_count": 94,
   "id": "08eec9d3-f3a4-4d18-8e5f-4eb995e3a5ce",
   "metadata": {},
   "outputs": [
    {
     "data": {
      "text/plain": [
       "'AJUNA'"
      ]
     },
     "execution_count": 94,
     "metadata": {},
     "output_type": "execute_result"
    }
   ],
   "source": [
    "b[::-1] #print in reverse direction no starting point no endpoint just from -1"
   ]
  },
  {
   "cell_type": "code",
   "execution_count": 95,
   "id": "4e667a53-aeaa-408c-ad6c-9bd4fa1e6b6e",
   "metadata": {},
   "outputs": [
    {
     "data": {
      "text/plain": [
       "''"
      ]
     },
     "execution_count": 95,
     "metadata": {},
     "output_type": "execute_result"
    }
   ],
   "source": [
    "s[2:7:-1] #scaling technique -num to 0 to num -4-3-2-1 0 1 2 3 4 5 6 7 8\n",
    "#we are going at index 2 to index 7  but we are jumping to -1 that causes conflict "
   ]
  },
  {
   "cell_type": "code",
   "execution_count": 96,
   "id": "2a48a79c-1f9b-4f91-bdb7-6f0d391400c4",
   "metadata": {},
   "outputs": [
    {
     "data": {
      "text/plain": [
       "''"
      ]
     },
     "execution_count": 96,
     "metadata": {},
     "output_type": "execute_result"
    }
   ],
   "source": [
    "b[8:0] #Here we are going from positive 8 to almost negative 0 ; default jump value is 1 \n",
    "#so when jumping in positive axis, so when you are searching/scanning data in negative axis and jumping in to positive axis\n",
    "#causes conflict so blank value returns"
   ]
  },
  {
   "cell_type": "code",
   "execution_count": 97,
   "id": "1ddf7956-3311-493b-bc88-08d96f9b07c9",
   "metadata": {},
   "outputs": [
    {
     "data": {
      "text/plain": [
       "'slliksw'"
      ]
     },
     "execution_count": 97,
     "metadata": {},
     "output_type": "execute_result"
    }
   ],
   "source": [
    "s[8:0:-1] #scanning data in negative axis and jumping towards negative axis so op is showing here; 0 is upper bond\n",
    "#so op is showing as 0-1"
   ]
  },
  {
   "cell_type": "code",
   "execution_count": 98,
   "id": "6f563c7d-98f9-44d1-8913-19913ccc7577",
   "metadata": {},
   "outputs": [
    {
     "data": {
      "text/plain": [
       "''"
      ]
     },
     "execution_count": 98,
     "metadata": {},
     "output_type": "execute_result"
    }
   ],
   "source": [
    "s[-2:-8:1]"
   ]
  },
  {
   "cell_type": "code",
   "execution_count": 99,
   "id": "dd917883-729d-4767-a0fb-a4a62ad15dc1",
   "metadata": {},
   "outputs": [
    {
     "data": {
      "text/plain": [
       "'lliksw'"
      ]
     },
     "execution_count": 99,
     "metadata": {},
     "output_type": "execute_result"
    }
   ],
   "source": [
    "s[-2:-8:-1]"
   ]
  },
  {
   "cell_type": "code",
   "execution_count": 100,
   "id": "a6f0fc07-04bb-491c-96bf-4ab6ab305eb5",
   "metadata": {},
   "outputs": [
    {
     "data": {
      "text/plain": [
       "'llikswp'"
      ]
     },
     "execution_count": 100,
     "metadata": {},
     "output_type": "execute_result"
    }
   ],
   "source": [
    "s[-2::-1] # Here whenever upper bound is not given it is considered as stack+1"
   ]
  },
  {
   "cell_type": "code",
   "execution_count": 102,
   "id": "b763f54b-3af1-4a87-bf2e-a28806a19b37",
   "metadata": {},
   "outputs": [
    {
     "data": {
      "text/plain": [
       "'sllikswp'"
      ]
     },
     "execution_count": 102,
     "metadata": {},
     "output_type": "execute_result"
    }
   ],
   "source": [
    "s[8::-1] #whenever upper bond is not given whole string is catched after jumping"
   ]
  },
  {
   "cell_type": "code",
   "execution_count": 105,
   "id": "59a26419-614d-4f3d-b0e8-a7d424bab7f1",
   "metadata": {},
   "outputs": [
    {
     "data": {
      "text/plain": [
       "'llikswp'"
      ]
     },
     "execution_count": 105,
     "metadata": {},
     "output_type": "execute_result"
    }
   ],
   "source": [
    "s[-2::-1]"
   ]
  },
  {
   "cell_type": "code",
   "execution_count": 107,
   "id": "c097173b-38a0-487a-92fd-06e654524dec",
   "metadata": {},
   "outputs": [
    {
     "data": {
      "text/plain": [
       "'p'"
      ]
     },
     "execution_count": 107,
     "metadata": {},
     "output_type": "execute_result"
    }
   ],
   "source": [
    "s[-8::-1] # -8-1=-9 => no element at -9 so just p"
   ]
  },
  {
   "cell_type": "code",
   "execution_count": 108,
   "id": "65f64a70-27ff-40da-ab1b-3592213c501a",
   "metadata": {},
   "outputs": [
    {
     "data": {
      "text/plain": [
       "'w'"
      ]
     },
     "execution_count": 108,
     "metadata": {},
     "output_type": "execute_result"
    }
   ],
   "source": [
    "s[-7::-2] #-7-2=-9 => no element at -9 so just w"
   ]
  },
  {
   "cell_type": "code",
   "execution_count": 109,
   "id": "1ad0211e-4577-4158-9a46-54844d99e43d",
   "metadata": {},
   "outputs": [
    {
     "data": {
      "text/plain": [
       "'swp'"
      ]
     },
     "execution_count": 109,
     "metadata": {},
     "output_type": "execute_result"
    }
   ],
   "source": [
    "s[-6::-1] #started form -6 to -8"
   ]
  },
  {
   "cell_type": "code",
   "execution_count": 110,
   "id": "8c4aa9ce-0596-4a80-800a-97953b78919d",
   "metadata": {},
   "outputs": [
    {
     "data": {
      "text/plain": [
       "'sl'"
      ]
     },
     "execution_count": 110,
     "metadata": {},
     "output_type": "execute_result"
    }
   ],
   "source": [
    "s[-1:-5:-2]"
   ]
  },
  {
   "cell_type": "code",
   "execution_count": 111,
   "id": "3010b4dd-8254-4a0c-8eb7-df020ade03ed",
   "metadata": {},
   "outputs": [],
   "source": [
    "\"\"\"\n",
    "\n",
    " ---  0   1   2    3   4   5   6   7  \n",
    " ---  p   w   s    k   i   l   l   s\n",
    " --- -8   -7  -6  -5  -4   -3  -2  -1\n",
    "\n",
    "solve in this way \"\"\""
   ]
  },
  {
   "cell_type": "code",
   "execution_count": 113,
   "id": "94ce07cd-e258-4e8d-9e11-80a99bb59736",
   "metadata": {},
   "outputs": [
    {
     "data": {
      "text/plain": [
       "'sllikswp'"
      ]
     },
     "execution_count": 113,
     "metadata": {},
     "output_type": "execute_result"
    }
   ],
   "source": [
    "s[::-1] #print in reverse direction no upperbound no lower bound just from -1 "
   ]
  },
  {
   "cell_type": "code",
   "execution_count": 114,
   "id": "dba074b9-769c-4c7d-b3ba-cc302f76528b",
   "metadata": {},
   "outputs": [
    {
     "data": {
      "text/plain": [
       "'slliksw'"
      ]
     },
     "execution_count": 114,
     "metadata": {},
     "output_type": "execute_result"
    }
   ],
   "source": [
    "s[:-8:-1]"
   ]
  },
  {
   "cell_type": "code",
   "execution_count": 115,
   "id": "f6ac70be-0ea0-48fe-8d38-c3d03309ef39",
   "metadata": {},
   "outputs": [
    {
     "data": {
      "text/plain": [
       "'pwskills'"
      ]
     },
     "execution_count": 115,
     "metadata": {},
     "output_type": "execute_result"
    }
   ],
   "source": [
    "s[::1]"
   ]
  },
  {
   "cell_type": "code",
   "execution_count": 116,
   "id": "a7d0b186-1fbe-4c6b-8a7a-5f58e91d9081",
   "metadata": {},
   "outputs": [
    {
     "ename": "IndexError",
     "evalue": "string index out of range",
     "output_type": "error",
     "traceback": [
      "\u001b[0;31m---------------------------------------------------------------------------\u001b[0m",
      "\u001b[0;31mIndexError\u001b[0m                                Traceback (most recent call last)",
      "Cell \u001b[0;32mIn[116], line 1\u001b[0m\n\u001b[0;32m----> 1\u001b[0m \u001b[43ms\u001b[49m\u001b[43m[\u001b[49m\u001b[38;5;241;43m90\u001b[39;49m\u001b[43m]\u001b[49m\n",
      "\u001b[0;31mIndexError\u001b[0m: string index out of range"
     ]
    }
   ],
   "source": [
    "s[90]"
   ]
  },
  {
   "cell_type": "code",
   "execution_count": 117,
   "id": "ddc7aa22-3738-4034-906e-f0e861b8500b",
   "metadata": {},
   "outputs": [
    {
     "ename": "IndexError",
     "evalue": "string index out of range",
     "output_type": "error",
     "traceback": [
      "\u001b[0;31m---------------------------------------------------------------------------\u001b[0m",
      "\u001b[0;31mIndexError\u001b[0m                                Traceback (most recent call last)",
      "Cell \u001b[0;32mIn[117], line 1\u001b[0m\n\u001b[0;32m----> 1\u001b[0m \u001b[43ms\u001b[49m\u001b[43m[\u001b[49m\u001b[38;5;241;43m-\u001b[39;49m\u001b[38;5;241;43m90\u001b[39;49m\u001b[43m]\u001b[49m\n",
      "\u001b[0;31mIndexError\u001b[0m: string index out of range"
     ]
    }
   ],
   "source": [
    "s[-90] # here it will search for index -90 on string which does not exist"
   ]
  },
  {
   "cell_type": "code",
   "execution_count": 118,
   "id": "8a7bbd67-d7bc-4044-83c0-88982a485adf",
   "metadata": {},
   "outputs": [
    {
     "data": {
      "text/plain": [
       "''"
      ]
     },
     "execution_count": 118,
     "metadata": {},
     "output_type": "execute_result"
    }
   ],
   "source": [
    "s[:-90:] #valid range from 0 to -90 valid jump count = 1"
   ]
  },
  {
   "cell_type": "code",
   "execution_count": 120,
   "id": "509b0d23-f3e7-4295-b23a-3ea2ce438ac8",
   "metadata": {},
   "outputs": [
    {
     "data": {
      "text/plain": [
       "'sllikswp'"
      ]
     },
     "execution_count": 120,
     "metadata": {},
     "output_type": "execute_result"
    }
   ],
   "source": [
    "s[:-90:-1] #upperbound doesnt matter"
   ]
  },
  {
   "cell_type": "code",
   "execution_count": 121,
   "id": "be07bb0e-a51b-4fde-9374-11e751f9564f",
   "metadata": {},
   "outputs": [
    {
     "data": {
      "text/plain": [
       "'sllikswp'"
      ]
     },
     "execution_count": 121,
     "metadata": {},
     "output_type": "execute_result"
    }
   ],
   "source": [
    "s[:-90000:-1]"
   ]
  },
  {
   "cell_type": "code",
   "execution_count": 122,
   "id": "c2d11ece-27eb-458a-a1bb-eb8eb4593d74",
   "metadata": {},
   "outputs": [
    {
     "data": {
      "text/plain": [
       "''"
      ]
     },
     "execution_count": 122,
     "metadata": {},
     "output_type": "execute_result"
    }
   ],
   "source": [
    "s[-90:-180:-1]"
   ]
  },
  {
   "cell_type": "code",
   "execution_count": 123,
   "id": "d138bbc6-ad10-42e2-8249-13e133046ff7",
   "metadata": {},
   "outputs": [],
   "source": [
    "c=2000"
   ]
  },
  {
   "cell_type": "code",
   "execution_count": 124,
   "id": "16dfe299-ebb7-4eb4-b627-f94e446073e7",
   "metadata": {},
   "outputs": [
    {
     "data": {
      "text/plain": [
       "2000"
      ]
     },
     "execution_count": 124,
     "metadata": {},
     "output_type": "execute_result"
    }
   ],
   "source": [
    "c"
   ]
  },
  {
   "cell_type": "code",
   "execution_count": 11,
   "id": "6b68804f-e609-4ebd-a878-815bb373f114",
   "metadata": {},
   "outputs": [],
   "source": [
    "s1=\"this is my string class\""
   ]
  },
  {
   "cell_type": "code",
   "execution_count": 7,
   "id": "93c06a00-a32a-45bf-9cd6-adfc2fb06453",
   "metadata": {},
   "outputs": [
    {
     "data": {
      "text/plain": [
       "'this is my string class'"
      ]
     },
     "execution_count": 7,
     "metadata": {},
     "output_type": "execute_result"
    }
   ],
   "source": [
    "s1"
   ]
  },
  {
   "cell_type": "code",
   "execution_count": 12,
   "id": "4522a6f6-b923-4c82-a8aa-881f5bfeb5f8",
   "metadata": {},
   "outputs": [
    {
     "data": {
      "text/plain": [
       "23"
      ]
     },
     "execution_count": 12,
     "metadata": {},
     "output_type": "execute_result"
    }
   ],
   "source": [
    "len(s1)"
   ]
  },
  {
   "cell_type": "code",
   "execution_count": 136,
   "id": "7ea32ac0-daa1-4c24-a548-d5f87c2238af",
   "metadata": {},
   "outputs": [
    {
     "data": {
      "text/plain": [
       "3"
      ]
     },
     "execution_count": 136,
     "metadata": {},
     "output_type": "execute_result"
    }
   ],
   "source": [
    "s1.find('s') #first occurrence of character 's' is at 3rd place so op is 3. shif+tab => to identify work of function"
   ]
  },
  {
   "cell_type": "code",
   "execution_count": 137,
   "id": "23d9ed4f-8505-4fda-8884-35d85c66962e",
   "metadata": {},
   "outputs": [
    {
     "data": {
      "text/plain": [
       "2"
      ]
     },
     "execution_count": 137,
     "metadata": {},
     "output_type": "execute_result"
    }
   ],
   "source": [
    "s1.find('i') #Searches the string for a specified value and returns the position of where it was found"
   ]
  },
  {
   "cell_type": "code",
   "execution_count": 138,
   "id": "22a0f2eb-f3fe-4410-91bd-c77011ca045e",
   "metadata": {},
   "outputs": [
    {
     "data": {
      "text/plain": [
       "2"
      ]
     },
     "execution_count": 138,
     "metadata": {},
     "output_type": "execute_result"
    }
   ],
   "source": [
    "s1.find('is')"
   ]
  },
  {
   "cell_type": "code",
   "execution_count": 139,
   "id": "0dea6061-739a-47ba-af6a-d60f48f9b2c7",
   "metadata": {},
   "outputs": [
    {
     "data": {
      "text/plain": [
       "-1"
      ]
     },
     "execution_count": 139,
     "metadata": {},
     "output_type": "execute_result"
    }
   ],
   "source": [
    "s1.find('iS') # when string is not found returns -1"
   ]
  },
  {
   "cell_type": "code",
   "execution_count": 141,
   "id": "0c02de01-cccf-4490-8a9a-c2b553e79693",
   "metadata": {},
   "outputs": [
    {
     "data": {
      "text/plain": [
       "5"
      ]
     },
     "execution_count": 141,
     "metadata": {},
     "output_type": "execute_result"
    }
   ],
   "source": [
    "s1.count('s') #quotes are imp"
   ]
  },
  {
   "cell_type": "code",
   "execution_count": 142,
   "id": "a1cb8b72-756f-4942-bc48-d7c063369702",
   "metadata": {},
   "outputs": [
    {
     "data": {
      "text/plain": [
       "0"
      ]
     },
     "execution_count": 142,
     "metadata": {},
     "output_type": "execute_result"
    }
   ],
   "source": [
    "s1.count('z')"
   ]
  },
  {
   "cell_type": "code",
   "execution_count": 143,
   "id": "73f78980-7441-4ddf-bd82-7ac69c96d40d",
   "metadata": {},
   "outputs": [
    {
     "data": {
      "text/plain": [
       "'this is my string class'"
      ]
     },
     "execution_count": 143,
     "metadata": {},
     "output_type": "execute_result"
    }
   ],
   "source": [
    "s1"
   ]
  },
  {
   "cell_type": "code",
   "execution_count": 146,
   "id": "b30e3a25-872a-4167-b350-e40b35f61c63",
   "metadata": {},
   "outputs": [
    {
     "data": {
      "text/plain": [
       "'THIS IS MY STRING CLASS'"
      ]
     },
     "execution_count": 146,
     "metadata": {},
     "output_type": "execute_result"
    }
   ],
   "source": [
    "s1.upper() #paranthesis after function"
   ]
  },
  {
   "cell_type": "code",
   "execution_count": 13,
   "id": "ebe2cdae-b107-42b8-8720-578a24cba394",
   "metadata": {},
   "outputs": [],
   "source": [
    "s2='THIS IS MY STRING CLASS'"
   ]
  },
  {
   "cell_type": "code",
   "execution_count": 148,
   "id": "618bf403-1f63-41ae-9050-e445320ca426",
   "metadata": {},
   "outputs": [
    {
     "data": {
      "text/plain": [
       "'THIS IS MY STRING CLASS'"
      ]
     },
     "execution_count": 148,
     "metadata": {},
     "output_type": "execute_result"
    }
   ],
   "source": [
    "s2"
   ]
  },
  {
   "cell_type": "code",
   "execution_count": 149,
   "id": "894e8b13-deef-4455-8713-ffa22f3134aa",
   "metadata": {},
   "outputs": [
    {
     "data": {
      "text/plain": [
       "'this is my string class'"
      ]
     },
     "execution_count": 149,
     "metadata": {},
     "output_type": "execute_result"
    }
   ],
   "source": [
    "s2.lower()"
   ]
  },
  {
   "cell_type": "code",
   "execution_count": 150,
   "id": "6ed17b73-d7e4-4d17-97e0-c4fa1f803680",
   "metadata": {},
   "outputs": [
    {
     "data": {
      "text/plain": [
       "'This Is My String Class'"
      ]
     },
     "execution_count": 150,
     "metadata": {},
     "output_type": "execute_result"
    }
   ],
   "source": [
    "s2.title() #captilize every word of string"
   ]
  },
  {
   "cell_type": "code",
   "execution_count": 151,
   "id": "f0f397b2-1c90-4c32-92e8-88b0f369e284",
   "metadata": {},
   "outputs": [
    {
     "data": {
      "text/plain": [
       "'This is my string class'"
      ]
     },
     "execution_count": 151,
     "metadata": {},
     "output_type": "execute_result"
    }
   ],
   "source": [
    "s2.capitalize() #Converts the first character to upper case"
   ]
  },
  {
   "cell_type": "code",
   "execution_count": 16,
   "id": "b54be185-9be0-4cab-8038-3673d30a8f6d",
   "metadata": {},
   "outputs": [
    {
     "data": {
      "text/plain": [
       "'pwskills'"
      ]
     },
     "execution_count": 16,
     "metadata": {},
     "output_type": "execute_result"
    }
   ],
   "source": [
    "s"
   ]
  },
  {
   "cell_type": "code",
   "execution_count": 18,
   "id": "07f4c6b5-8662-44b5-907f-efc6e0d631fb",
   "metadata": {},
   "outputs": [
    {
     "data": {
      "text/plain": [
       "'pwskills mentor is Sudhanshu'"
      ]
     },
     "execution_count": 18,
     "metadata": {},
     "output_type": "execute_result"
    }
   ],
   "source": [
    "s+\" mentor is Sudhanshu\" #//concatenation"
   ]
  },
  {
   "cell_type": "code",
   "execution_count": 159,
   "id": "514dcee8-1ec4-4246-9af0-69c072694864",
   "metadata": {},
   "outputs": [
    {
     "data": {
      "text/plain": [
       "'pwskills2525'"
      ]
     },
     "execution_count": 159,
     "metadata": {},
     "output_type": "execute_result"
    }
   ],
   "source": [
    "s+'2525'"
   ]
  },
  {
   "cell_type": "code",
   "execution_count": 160,
   "id": "ef450b84-b245-47e4-9b7f-d2f254e8aa82",
   "metadata": {},
   "outputs": [
    {
     "data": {
      "text/plain": [
       "'pwskills2525'"
      ]
     },
     "execution_count": 160,
     "metadata": {},
     "output_type": "execute_result"
    }
   ],
   "source": [
    "s+str(2525)"
   ]
  },
  {
   "cell_type": "code",
   "execution_count": 19,
   "id": "d525f3e9-9e0d-493b-8925-9cca93128309",
   "metadata": {},
   "outputs": [
    {
     "data": {
      "text/plain": [
       "'pwskillspwskillspwskills'"
      ]
     },
     "execution_count": 19,
     "metadata": {},
     "output_type": "execute_result"
    }
   ],
   "source": [
    "s*3"
   ]
  },
  {
   "cell_type": "code",
   "execution_count": 10,
   "id": "17cf8257-2344-4649-b9d6-3c96b01237c1",
   "metadata": {},
   "outputs": [
    {
     "data": {
      "text/plain": [
       "'anujaanujaanujaanujaanujaanujaanujaanujaanujaanuja'"
      ]
     },
     "execution_count": 10,
     "metadata": {},
     "output_type": "execute_result"
    }
   ],
   "source": [
    "'anuja'*10 #will print anuja 10 times"
   ]
  },
  {
   "cell_type": "code",
   "execution_count": 20,
   "id": "ee505fc1-fcd3-469b-b768-a857dbdb3966",
   "metadata": {},
   "outputs": [],
   "source": [
    "s4=\"Hello World!\""
   ]
  },
  {
   "cell_type": "code",
   "execution_count": 21,
   "id": "347a5a4c-2520-4cc5-aaed-8d6bc79f2fe7",
   "metadata": {},
   "outputs": [
    {
     "data": {
      "text/plain": [
       "'Hello World!'"
      ]
     },
     "execution_count": 21,
     "metadata": {},
     "output_type": "execute_result"
    }
   ],
   "source": [
    "s4"
   ]
  },
  {
   "cell_type": "code",
   "execution_count": 23,
   "id": "15072af9-0970-4fa9-8e4e-678437dd79ee",
   "metadata": {},
   "outputs": [
    {
     "data": {
      "text/plain": [
       "'r'"
      ]
     },
     "execution_count": 23,
     "metadata": {},
     "output_type": "execute_result"
    }
   ],
   "source": [
    "s4[8:9:2]"
   ]
  },
  {
   "cell_type": "code",
   "execution_count": null,
   "id": "ec206576-32e8-4aaf-8897-f1c8250e063e",
   "metadata": {},
   "outputs": [],
   "source": []
  }
 ],
 "metadata": {
  "kernelspec": {
   "display_name": "Python 3 (ipykernel)",
   "language": "python",
   "name": "python3"
  },
  "language_info": {
   "codemirror_mode": {
    "name": "ipython",
    "version": 3
   },
   "file_extension": ".py",
   "mimetype": "text/x-python",
   "name": "python",
   "nbconvert_exporter": "python",
   "pygments_lexer": "ipython3",
   "version": "3.10.8"
  }
 },
 "nbformat": 4,
 "nbformat_minor": 5
}
